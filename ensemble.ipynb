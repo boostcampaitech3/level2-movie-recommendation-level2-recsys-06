{
 "cells": [
  {
   "cell_type": "code",
   "execution_count": 1,
   "metadata": {},
   "outputs": [],
   "source": [
    "import pandas as pd"
   ]
  },
  {
   "cell_type": "code",
   "execution_count": null,
   "metadata": {},
   "outputs": [],
   "source": [
    "RecVAE_recon = pd.read_csv('/opt/ml/input/code/output/RecVAE_recon.csv').to_numpy()"
   ]
  },
  {
   "cell_type": "code",
   "execution_count": null,
   "metadata": {},
   "outputs": [],
   "source": [
    "EASE_recon = pd.read_csv('/opt/ml/input/code/output/EASE_recon.csv').to_numpy()"
   ]
  },
  {
   "cell_type": "code",
   "execution_count": null,
   "metadata": {},
   "outputs": [],
   "source": [
    "import copy\n",
    "\n",
    "RecVAE_recon_norm = copy.deepcopy(RecVAE_recon)\n",
    "\n",
    "for i in range(len(RecVAE_recon_norm)):\n",
    "    tmp = [score for score in RecVAE_recon_norm[i] if score != -np.inf and score!=np.inf ]\n",
    "\n",
    "    tmp_mean = np.mean(tmp, axis=0)\n",
    "    tmp_std = np.std(tmp, axis=0)\n",
    "\n",
    "    for j, score in enumerate(RecVAE_recon_norm[i]):\n",
    "        if score != -np.inf and score!=np.inf:\n",
    "            RecVAE_recon_norm[i][j] = (RecVAE_recon_norm[i][j] - tmp_mean)/tmp_std"
   ]
  },
  {
   "cell_type": "code",
   "execution_count": null,
   "metadata": {},
   "outputs": [],
   "source": [
    "EASE_recon_norm = copy.deepcopy(EASE_recon)\n",
    "\n",
    "for i in range(len(EASE_recon_norm)):\n",
    "    tmp = [score for score in EASE_recon_norm[i] if score != -np.inf and score!=np.inf ]\n",
    "\n",
    "    tmp_mean = np.mean(tmp, axis=0)\n",
    "    tmp_std = np.std(tmp, axis=0)\n",
    "\n",
    "    for j, score in enumerate(EASE_recon_norm[i]):\n",
    "        if score != -np.inf and score!=np.inf:\n",
    "            EASE_recon_norm[i][j] = (EASE_recon_norm[i][j] - tmp_mean)/tmp_std"
   ]
  },
  {
   "cell_type": "code",
   "execution_count": null,
   "metadata": {},
   "outputs": [],
   "source": [
    "raw_data = pd.read_csv('/opt/ml/input/data/train/train_ratings.csv')\n",
    "\n",
    "unique_sid = pd.unique(raw_data['item'])\n",
    "unique_uid = pd.unique(raw_data['user'])\n",
    "show2id = dict((sid, i) for (i, sid) in enumerate(unique_sid))\n",
    "profile2id = dict((pid, i) for (i, pid) in enumerate(unique_uid))\n",
    "\n",
    "id2show = list(show2id.keys())"
   ]
  },
  {
   "cell_type": "code",
   "execution_count": 90,
   "metadata": {},
   "outputs": [],
   "source": [
    "import bottleneck as bn\n",
    "import numpy as np\n",
    "\n",
    "submission_norm_item = list()\n",
    "submission_norm_user = list()\n",
    "\n",
    "ensemble_recon_norm = np.zeros(shape=RecVAE_recon_norm.shape)\n",
    "\n",
    "for i in range(len(ensemble_recon_norm)):\n",
    "    # id2show 과정\n",
    "    for j in range(len(ensemble_recon_norm[j])):\n",
    "        if ensemble_recon_norm[i][j]==-np.inf or RecVAE_recon_norm[i][j]==-np.inf:\n",
    "            ensemble_recon_norm[i][j] = -np.inf\n",
    "        elif ensemble_recon_norm[i][j]>0 and  RecVAE_recon_norm[i][j]>0 :\n",
    "            ensemble_recon_norm[i][j] = ensemble_recon_norm[i][j]* RecVAE_recon_norm[i][j]\n",
    "        else:\n",
    "            ensemble_recon_norm[i][j] = 0\n",
    "\n",
    "    idxes = bn.argpartition(-EASE_recon[i], 10)[:10] # 유저에게 추천할 10개 영화를 가져옴\n",
    "\n",
    "    tmp = list()\n",
    "    for j in idxes:                    \n",
    "        tmp.append(list(show2id.keys())[j]) # id2show # = tmp.append(raw_data['item'].unique()[j])\n",
    "    submission_norm_item.append(tmp)"
   ]
  },
  {
   "cell_type": "code",
   "execution_count": 75,
   "metadata": {},
   "outputs": [],
   "source": [
    "submission_norm_item = np.array(submission_norm_item).reshape(-1, 1)\n",
    "submission_norm_user = raw_data['user'].unique().repeat(10)\n",
    "submission_norm_user = np.array(submission_norm_user).reshape(-1, 1)\n",
    "\n",
    "submission_norm_result = np.hstack((submission_norm_user,submission_norm_item))\n",
    "\n",
    "submission_norm_result = pd.DataFrame(submission_norm_result, columns=['user','item'])  \n",
    "submission_norm_result.to_csv('/opt/ml/input/code/output/submission.csv', index=False)"
   ]
  },
  {
   "cell_type": "code",
   "execution_count": null,
   "metadata": {},
   "outputs": [],
   "source": []
  }
 ],
 "metadata": {
  "interpreter": {
   "hash": "d4d1e4263499bec80672ea0156c357c1ee493ec2b1c70f0acce89fc37c4a6abe"
  },
  "kernelspec": {
   "display_name": "Python 3.8.5 ('base')",
   "language": "python",
   "name": "python3"
  },
  "language_info": {
   "codemirror_mode": {
    "name": "ipython",
    "version": 3
   },
   "file_extension": ".py",
   "mimetype": "text/x-python",
   "name": "python",
   "nbconvert_exporter": "python",
   "pygments_lexer": "ipython3",
   "version": "3.8.5"
  },
  "orig_nbformat": 4
 },
 "nbformat": 4,
 "nbformat_minor": 2
}
