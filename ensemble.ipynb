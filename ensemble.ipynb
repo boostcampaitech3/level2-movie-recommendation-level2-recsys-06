{
 "cells": [
  {
   "cell_type": "code",
   "execution_count": 1,
   "metadata": {},
   "outputs": [],
   "source": [
    "import pandas as pd"
   ]
  },
  {
   "cell_type": "code",
   "execution_count": 2,
   "metadata": {},
   "outputs": [
    {
     "name": "stdout",
     "output_type": "stream",
     "text": [
      "[[       -inf        -inf        -inf ... -1.94449     0.13540849\n",
      "  -2.730548  ]\n",
      " [-0.69046545  0.35692573  2.4384282  ... -2.2969117  -6.719362\n",
      "  -3.7252674 ]\n",
      " [ 0.13764262 -0.32147062 -0.05545632 ... -3.757159   -4.781424\n",
      "  -4.8535647 ]\n",
      " ...\n",
      " [ 1.1122448   0.42727745  1.8475657  ... -2.0716033  -1.3138429\n",
      "  -4.106259  ]\n",
      " [-0.49199325  0.3512059  -0.504378   ... -3.6050904  -6.1360335\n",
      "  -6.2000923 ]\n",
      " [       -inf  0.83166534 -0.01101679 ... -1.8990917  -2.82983\n",
      "  -3.635313  ]]\n"
     ]
    }
   ],
   "source": [
    "MultiVAE_recon = pd.read_csv('/opt/ml/input/code/output/MultiVAE_recon.csv').to_numpy()\n",
    "print(MultiVAE_recon)"
   ]
  },
  {
   "cell_type": "code",
   "execution_count": 3,
   "metadata": {},
   "outputs": [
    {
     "name": "stdout",
     "output_type": "stream",
     "text": [
      "[[       -inf        -inf        -inf ... -1.542791    0.767026\n",
      "  -3.080206  ]\n",
      " [ 0.07644069  0.11381254  2.9982886  ...  0.40977126 -5.4181113\n",
      "  -3.260325  ]\n",
      " [-1.2090167  -1.2670263  -0.26334745 ... -3.2951405  -6.293946\n",
      "  -5.610749  ]\n",
      " ...\n",
      " [ 2.0777261   1.3275775   1.9766551  ... -0.7032384  -0.48374152\n",
      "  -5.1581764 ]\n",
      " [-1.9451867   0.7208952  -0.838625   ... -3.5060196  -7.4415174\n",
      "  -8.823694  ]\n",
      " [       -inf  0.9894954   0.5258022  ... -2.7967148  -1.5391778\n",
      "  -4.0345283 ]]\n"
     ]
    }
   ],
   "source": [
    "RecVAE_recon = pd.read_csv('/opt/ml/input/code/output/RecVAE_recon.csv').to_numpy()\n",
    "print(RecVAE_recon)"
   ]
  },
  {
   "cell_type": "code",
   "execution_count": 4,
   "metadata": {},
   "outputs": [
    {
     "data": {
      "text/plain": [
       "array([[ 1.16059412,  0.59100162, -0.06780781, ..., -0.00679623,\n",
       "        -0.01066291, -0.01034763],\n",
       "       [ 0.97182629,  0.06162117,  0.10961931, ...,  0.02746037,\n",
       "        -0.01873638, -0.00940951],\n",
       "       [ 0.00636936, -0.00426585,  0.01317239, ..., -0.00778428,\n",
       "        -0.00711079,  0.00552333],\n",
       "       ...,\n",
       "       [ 1.01256431,  0.48248603,  0.04911717, ...,  0.00741157,\n",
       "        -0.02438921,  0.0080125 ],\n",
       "       [ 0.14896827, -0.05112392,  0.02335233, ..., -0.00838821,\n",
       "         0.00272924, -0.00682354],\n",
       "       [ 1.13142675,  0.60900413,  0.06203313, ...,  0.00720961,\n",
       "         0.00259676,  0.00665914]])"
      ]
     },
     "execution_count": 4,
     "metadata": {},
     "output_type": "execute_result"
    }
   ],
   "source": [
    "EASE_recon = pd.read_csv('/opt/ml/input/code/output/EASE_recon.csv').to_numpy()\n",
    "EASE_recon"
   ]
  },
  {
   "cell_type": "code",
   "execution_count": 5,
   "metadata": {},
   "outputs": [],
   "source": [
    "import copy\n",
    "import numpy as np\n",
    "\n",
    "RecVAE_recon_norm = copy.deepcopy(RecVAE_recon)\n",
    "\n",
    "for i in range(len(RecVAE_recon_norm)):\n",
    "    tmp = [score for score in RecVAE_recon_norm[i] if score != -np.inf and score!=np.inf ]\n",
    "    if len(RecVAE_recon_norm[i])-len(tmp) <=1000 : weight = 0.8\n",
    "    else : weight = 0.2\n",
    "    # for score in RecVAE_recon_norm[i]:\n",
    "    #     if score != -np.inf and score!=np.inf:\n",
    "    #         tmp.append()\n",
    "    tmp_mean = np.mean(tmp, axis=0)\n",
    "    tmp_std = np.std(tmp, axis=0)\n",
    "    for j, score in enumerate(RecVAE_recon_norm[i]):\n",
    "        if score != -np.inf and score!=np.inf:\n",
    "            RecVAE_recon_norm[i][j] = (RecVAE_recon_norm[i][j] - tmp_mean)/tmp_std\n",
    "            RecVAE_recon_norm[i][j]*=weight"
   ]
  },
  {
   "cell_type": "code",
   "execution_count": 6,
   "metadata": {},
   "outputs": [
    {
     "ename": "KeyboardInterrupt",
     "evalue": "",
     "output_type": "error",
     "traceback": [
      "\u001b[0;31m---------------------------------------------------------------------------\u001b[0m",
      "\u001b[0;31mKeyboardInterrupt\u001b[0m                         Traceback (most recent call last)",
      "\u001b[1;32m/opt/ml/input/code/readcsv.ipynb Cell 6'\u001b[0m in \u001b[0;36m<cell line: 5>\u001b[0;34m()\u001b[0m\n\u001b[1;32m      <a href='vscode-notebook-cell://ssh-remote%2B118.67.132.25/opt/ml/input/code/readcsv.ipynb#ch0000005vscode-remote?line=2'>3</a>\u001b[0m MultiVAE_recon_norm \u001b[39m=\u001b[39m copy\u001b[39m.\u001b[39mdeepcopy(MultiVAE_recon)\n\u001b[1;32m      <a href='vscode-notebook-cell://ssh-remote%2B118.67.132.25/opt/ml/input/code/readcsv.ipynb#ch0000005vscode-remote?line=4'>5</a>\u001b[0m \u001b[39mfor\u001b[39;00m i \u001b[39min\u001b[39;00m \u001b[39mrange\u001b[39m(\u001b[39mlen\u001b[39m(MultiVAE_recon_norm)):\n\u001b[1;32m      <a href='vscode-notebook-cell://ssh-remote%2B118.67.132.25/opt/ml/input/code/readcsv.ipynb#ch0000005vscode-remote?line=5'>6</a>\u001b[0m     \u001b[39m# user_sum = 0\u001b[39;00m\n\u001b[1;32m      <a href='vscode-notebook-cell://ssh-remote%2B118.67.132.25/opt/ml/input/code/readcsv.ipynb#ch0000005vscode-remote?line=6'>7</a>\u001b[0m     \u001b[39m# for score in MultiVAE_recon_norm[i]:\u001b[39;00m\n\u001b[1;32m      <a href='vscode-notebook-cell://ssh-remote%2B118.67.132.25/opt/ml/input/code/readcsv.ipynb#ch0000005vscode-remote?line=7'>8</a>\u001b[0m     \u001b[39m#     if score != -np.inf and score!=np.inf:\u001b[39;00m\n\u001b[1;32m      <a href='vscode-notebook-cell://ssh-remote%2B118.67.132.25/opt/ml/input/code/readcsv.ipynb#ch0000005vscode-remote?line=8'>9</a>\u001b[0m     \u001b[39m#         user_sum += score\u001b[39;00m\n\u001b[0;32m---> <a href='vscode-notebook-cell://ssh-remote%2B118.67.132.25/opt/ml/input/code/readcsv.ipynb#ch0000005vscode-remote?line=10'>11</a>\u001b[0m     tmp \u001b[39m=\u001b[39m [score \u001b[39mfor\u001b[39;00m score \u001b[39min\u001b[39;00m MultiVAE_recon_norm[i] \u001b[39mif\u001b[39;00m score \u001b[39m!=\u001b[39m \u001b[39m-\u001b[39mnp\u001b[39m.\u001b[39minf \u001b[39mand\u001b[39;00m score\u001b[39m!=\u001b[39mnp\u001b[39m.\u001b[39minf ]\n\u001b[1;32m     <a href='vscode-notebook-cell://ssh-remote%2B118.67.132.25/opt/ml/input/code/readcsv.ipynb#ch0000005vscode-remote?line=11'>12</a>\u001b[0m     \u001b[39mif\u001b[39;00m \u001b[39mlen\u001b[39m(MultiVAE_recon_norm[i])\u001b[39m-\u001b[39m\u001b[39mlen\u001b[39m(tmp) \u001b[39m>\u001b[39m\u001b[39m1000\u001b[39m : weight \u001b[39m=\u001b[39m \u001b[39m0.8\u001b[39m\n\u001b[1;32m     <a href='vscode-notebook-cell://ssh-remote%2B118.67.132.25/opt/ml/input/code/readcsv.ipynb#ch0000005vscode-remote?line=12'>13</a>\u001b[0m     \u001b[39melse\u001b[39;00m : weight \u001b[39m=\u001b[39m \u001b[39m0.2\u001b[39m\n",
      "\u001b[1;32m/opt/ml/input/code/readcsv.ipynb Cell 6'\u001b[0m in \u001b[0;36m<listcomp>\u001b[0;34m(.0)\u001b[0m\n\u001b[1;32m      <a href='vscode-notebook-cell://ssh-remote%2B118.67.132.25/opt/ml/input/code/readcsv.ipynb#ch0000005vscode-remote?line=2'>3</a>\u001b[0m MultiVAE_recon_norm \u001b[39m=\u001b[39m copy\u001b[39m.\u001b[39mdeepcopy(MultiVAE_recon)\n\u001b[1;32m      <a href='vscode-notebook-cell://ssh-remote%2B118.67.132.25/opt/ml/input/code/readcsv.ipynb#ch0000005vscode-remote?line=4'>5</a>\u001b[0m \u001b[39mfor\u001b[39;00m i \u001b[39min\u001b[39;00m \u001b[39mrange\u001b[39m(\u001b[39mlen\u001b[39m(MultiVAE_recon_norm)):\n\u001b[1;32m      <a href='vscode-notebook-cell://ssh-remote%2B118.67.132.25/opt/ml/input/code/readcsv.ipynb#ch0000005vscode-remote?line=5'>6</a>\u001b[0m     \u001b[39m# user_sum = 0\u001b[39;00m\n\u001b[1;32m      <a href='vscode-notebook-cell://ssh-remote%2B118.67.132.25/opt/ml/input/code/readcsv.ipynb#ch0000005vscode-remote?line=6'>7</a>\u001b[0m     \u001b[39m# for score in MultiVAE_recon_norm[i]:\u001b[39;00m\n\u001b[1;32m      <a href='vscode-notebook-cell://ssh-remote%2B118.67.132.25/opt/ml/input/code/readcsv.ipynb#ch0000005vscode-remote?line=7'>8</a>\u001b[0m     \u001b[39m#     if score != -np.inf and score!=np.inf:\u001b[39;00m\n\u001b[1;32m      <a href='vscode-notebook-cell://ssh-remote%2B118.67.132.25/opt/ml/input/code/readcsv.ipynb#ch0000005vscode-remote?line=8'>9</a>\u001b[0m     \u001b[39m#         user_sum += score\u001b[39;00m\n\u001b[0;32m---> <a href='vscode-notebook-cell://ssh-remote%2B118.67.132.25/opt/ml/input/code/readcsv.ipynb#ch0000005vscode-remote?line=10'>11</a>\u001b[0m     tmp \u001b[39m=\u001b[39m [score \u001b[39mfor\u001b[39;00m score \u001b[39min\u001b[39;00m MultiVAE_recon_norm[i] \u001b[39mif\u001b[39;00m score \u001b[39m!=\u001b[39m \u001b[39m-\u001b[39mnp\u001b[39m.\u001b[39;49minf \u001b[39mand\u001b[39;00m score\u001b[39m!=\u001b[39mnp\u001b[39m.\u001b[39minf ]\n\u001b[1;32m     <a href='vscode-notebook-cell://ssh-remote%2B118.67.132.25/opt/ml/input/code/readcsv.ipynb#ch0000005vscode-remote?line=11'>12</a>\u001b[0m     \u001b[39mif\u001b[39;00m \u001b[39mlen\u001b[39m(MultiVAE_recon_norm[i])\u001b[39m-\u001b[39m\u001b[39mlen\u001b[39m(tmp) \u001b[39m>\u001b[39m\u001b[39m1000\u001b[39m : weight \u001b[39m=\u001b[39m \u001b[39m0.8\u001b[39m\n\u001b[1;32m     <a href='vscode-notebook-cell://ssh-remote%2B118.67.132.25/opt/ml/input/code/readcsv.ipynb#ch0000005vscode-remote?line=12'>13</a>\u001b[0m     \u001b[39melse\u001b[39;00m : weight \u001b[39m=\u001b[39m \u001b[39m0.2\u001b[39m\n",
      "\u001b[0;31mKeyboardInterrupt\u001b[0m: "
     ]
    }
   ],
   "source": [
    "import copy\n",
    "\n",
    "MultiVAE_recon_norm = copy.deepcopy(MultiVAE_recon)\n",
    "\n",
    "for i in range(len(MultiVAE_recon_norm)):\n",
    "    # user_sum = 0\n",
    "    # for score in MultiVAE_recon_norm[i]:\n",
    "    #     if score != -np.inf and score!=np.inf:\n",
    "    #         user_sum += score\n",
    "\n",
    "    tmp = [score for score in MultiVAE_recon_norm[i] if score != -np.inf and score!=np.inf ]\n",
    "    if len(MultiVAE_recon_norm[i])-len(tmp) >1000 : weight = 0.8\n",
    "    else : weight = 0.2\n",
    "\n",
    "    tmp_mean = np.mean(tmp, axis=0)\n",
    "    tmp_std = np.std(tmp, axis=0)\n",
    "\n",
    "    for j, score in enumerate(MultiVAE_recon_norm[i]):\n",
    "        if score != -np.inf and score!=np.inf:\n",
    "            MultiVAE_recon_norm[i][j] = (MultiVAE_recon_norm[i][j] - tmp_mean)/tmp_std\n",
    "            MultiVAE_recon_norm[i][j] *= weight"
   ]
  },
  {
   "cell_type": "code",
   "execution_count": null,
   "metadata": {},
   "outputs": [],
   "source": [
    "raw_data = pd.read_csv('/opt/ml/input/data/train/train_ratings.csv')\n",
    "\n",
    "unique_sid = pd.unique(raw_data['item'])\n",
    "unique_uid = pd.unique(raw_data['user'])\n",
    "show2id = dict((sid, i) for (i, sid) in enumerate(unique_sid))\n",
    "profile2id = dict((pid, i) for (i, pid) in enumerate(unique_uid))\n",
    "\n",
    "id2show = list(show2id.keys())"
   ]
  },
  {
   "cell_type": "code",
   "execution_count": null,
   "metadata": {},
   "outputs": [],
   "source": [
    "import copy\n",
    "import numpy as np\n",
    "\n",
    "EASE_show2id = dict((sid, i) for (i, sid) in enumerate(sorted(raw_data['item'].unique())))\n",
    "EASE_recon_norm = copy.deepcopy(EASE_recon)\n",
    "\n",
    "for i in range(len(EASE_recon_norm)):\n",
    "    #tmp = [EASE_score for RecVAE_score, EASE_score in zip(RecVAE_recon_norm[i], EASE_recon_norm[i]) if RecVAE_score != -np.inf and RecVAE_score!=np.inf ]\n",
    "    tmp = list()\n",
    "    for idx, RecVAE_score in enumerate(RecVAE_recon_norm[i]):\n",
    "        if RecVAE_score != -np.inf and RecVAE_score != np.inf\n",
    "            tmp.append(EASE_recon_norm[i][EASE_show2id[id2show[idx]]])\n",
    "\n",
    "    # if len(RecVAE_recon_norm[i])-len(tmp) <=1000 : weight = 0.8\n",
    "    # else : weight = 0.2\n",
    "    # for score in RecVAE_recon_norm[i]:\n",
    "    #     if score != -np.inf and score!=np.inf:\n",
    "    #         tmp.append()\n",
    "    tmp_mean = np.mean(tmp, axis=0)\n",
    "    tmp_std = np.std(tmp, axis=0)\n",
    "    for j, score in enumerate(EASE_recon_norm[i]):\n",
    "        if RecVAE_recon_norm[i][j] != -np.inf and RecVAE_recon_norm[i][j]!=np.inf:\n",
    "            #EASE_recon_norm[i][j] = (EASE_recon_norm[i][j] - tmp_mean)/tmp_std\n",
    "            EASE_recon_norm[i][EASE_show2id[id2show[j]]] = (EASE_recon_norm[i][EASE_show2id[id2show[j]]] - tmp_mean)/tmp_std\n",
    "            #EASE_recon_norm[i][j]*=weight\n",
    "        else:\n",
    "            EASE_recon_norm[i][j] = -np.inf\n",
    "            EASE_recon[i][j] = -np.inf"
   ]
  },
  {
   "cell_type": "code",
   "execution_count": null,
   "metadata": {},
   "outputs": [],
   "source": [
    "tmp_std"
   ]
  },
  {
   "cell_type": "code",
   "execution_count": 64,
   "metadata": {},
   "outputs": [
    {
     "data": {
      "text/plain": [
       "array([[       -inf,        -inf,        -inf, ..., -0.00679623,\n",
       "        -0.01066291, -0.01034763],\n",
       "       [ 0.97182629,  0.06162117,  0.10961931, ...,  0.02746037,\n",
       "        -0.01873638, -0.00940951],\n",
       "       [ 0.00636936, -0.00426585,  0.01317239, ..., -0.00778428,\n",
       "        -0.00711079,  0.00552333],\n",
       "       ...,\n",
       "       [ 1.01256431,  0.48248603,  0.04911717, ...,  0.00741157,\n",
       "        -0.02438921,  0.0080125 ],\n",
       "       [ 0.14896827, -0.05112392,  0.02335233, ..., -0.00838821,\n",
       "         0.00272924, -0.00682354],\n",
       "       [       -inf,  0.60900413,  0.06203313, ...,  0.00720961,\n",
       "         0.00259676,  0.00665914]])"
      ]
     },
     "execution_count": 64,
     "metadata": {},
     "output_type": "execute_result"
    }
   ],
   "source": [
    "EASE_recon"
   ]
  },
  {
   "cell_type": "code",
   "execution_count": 89,
   "metadata": {},
   "outputs": [],
   "source": [
    "raw_data = pd.read_csv('/opt/ml/input/data/train/train_ratings.csv')\n",
    "\n",
    "unique_sid = pd.unique(raw_data['item'])\n",
    "unique_uid = pd.unique(raw_data['user'])\n",
    "show2id = dict((sid, i) for (i, sid) in enumerate(unique_sid))\n",
    "profile2id = dict((pid, i) for (i, pid) in enumerate(unique_uid))\n",
    "\n",
    "\n",
    "submission_norm_user = list()\n",
    "submission_norm_item = list()"
   ]
  },
  {
   "cell_type": "code",
   "execution_count": 90,
   "metadata": {},
   "outputs": [],
   "source": [
    "import bottleneck as bn\n",
    "import numpy as np\n",
    "\n",
    "#ensemble_recon_norm = MultiVAE_recon_norm+RecVAE_recon_norm + EASE_recon_norm*0.8\n",
    "\n",
    "ensemble_recon_norm = EASE_recon\n",
    "\n",
    "for i in range(len(ensemble_recon_norm)):\n",
    "    idxes_bn = bn.argpartition(-EASE_recon[i], 10)[:10] # 유저에게 추천할 10개 영화를 가져옴\n",
    "    idxes = np.argpartition(EASE_recon[i], -10)[-10:]\n",
    "    tmp = list()\n",
    "    # id2show 과정\n",
    "    for j in idxes:                    \n",
    "        tmp.append(list(show2id.keys())[j]) # id2show # = tmp.append(raw_data['item'].unique()[j])\n",
    "    submission_norm_item.append(tmp)"
   ]
  },
  {
   "cell_type": "code",
   "execution_count": 93,
   "metadata": {},
   "outputs": [
    {
     "data": {
      "text/plain": [
       "True"
      ]
     },
     "execution_count": 93,
     "metadata": {},
     "output_type": "execute_result"
    }
   ],
   "source": [
    "set(idxes)==set(idxes_bn)"
   ]
  },
  {
   "cell_type": "code",
   "execution_count": 92,
   "metadata": {},
   "outputs": [
    {
     "data": {
      "text/plain": [
       "array([ 226, 2670, 3567, 3399, 2762,  161, 1719, 2344,  659, 2659])"
      ]
     },
     "execution_count": 92,
     "metadata": {},
     "output_type": "execute_result"
    }
   ],
   "source": [
    "idxes_bn"
   ]
  },
  {
   "cell_type": "code",
   "execution_count": 75,
   "metadata": {},
   "outputs": [],
   "source": [
    "submission_norm_item = np.array(submission_norm_item).reshape(-1, 1)\n",
    "submission_norm_user = raw_data['user'].unique().repeat(10)\n",
    "submission_norm_user = np.array(submission_norm_user).reshape(-1, 1)\n",
    "\n",
    "submission_norm_result = np.hstack((submission_norm_user,submission_norm_item))\n",
    "\n",
    "submission_norm_result = pd.DataFrame(submission_norm_result, columns=['user','item'])  \n",
    "submission_norm_result.to_csv('/opt/ml/input/code/output/submission_EASE.csv', index=False)"
   ]
  },
  {
   "cell_type": "code",
   "execution_count": 70,
   "metadata": {},
   "outputs": [],
   "source": [
    "raw_data = pd.read_csv('/opt/ml/input/data/train/train_ratings.csv')\n",
    "submission_user = list()\n",
    "submission_item = list()"
   ]
  },
  {
   "cell_type": "code",
   "execution_count": 71,
   "metadata": {},
   "outputs": [],
   "source": [
    "unique_sid = pd.unique(raw_data['item'])\n",
    "unique_uid = pd.unique(raw_data['user'])\n",
    "show2id = dict((sid, i) for (i, sid) in enumerate(unique_sid))\n",
    "profile2id = dict((pid, i) for (i, pid) in enumerate(unique_uid))"
   ]
  },
  {
   "cell_type": "code",
   "execution_count": 72,
   "metadata": {},
   "outputs": [
    {
     "ename": "NameError",
     "evalue": "name 'ensemble_recon' is not defined",
     "output_type": "error",
     "traceback": [
      "\u001b[0;31m---------------------------------------------------------------------------\u001b[0m",
      "\u001b[0;31mNameError\u001b[0m                                 Traceback (most recent call last)",
      "\u001b[1;32m/opt/ml/input/code/readcsv.ipynb Cell 18'\u001b[0m in \u001b[0;36m<cell line: 4>\u001b[0;34m()\u001b[0m\n\u001b[1;32m      <a href='vscode-notebook-cell://ssh-remote%2B118.67.132.25/opt/ml/input/code/readcsv.ipynb#ch0000013vscode-remote?line=0'>1</a>\u001b[0m \u001b[39mimport\u001b[39;00m \u001b[39mbottleneck\u001b[39;00m \u001b[39mas\u001b[39;00m \u001b[39mbn\u001b[39;00m\n\u001b[1;32m      <a href='vscode-notebook-cell://ssh-remote%2B118.67.132.25/opt/ml/input/code/readcsv.ipynb#ch0000013vscode-remote?line=1'>2</a>\u001b[0m \u001b[39mimport\u001b[39;00m \u001b[39mnumpy\u001b[39;00m \u001b[39mas\u001b[39;00m \u001b[39mnp\u001b[39;00m\n\u001b[0;32m----> <a href='vscode-notebook-cell://ssh-remote%2B118.67.132.25/opt/ml/input/code/readcsv.ipynb#ch0000013vscode-remote?line=3'>4</a>\u001b[0m \u001b[39mfor\u001b[39;00m i \u001b[39min\u001b[39;00m \u001b[39mrange\u001b[39m(\u001b[39mlen\u001b[39m(ensemble_recon)):\n\u001b[1;32m      <a href='vscode-notebook-cell://ssh-remote%2B118.67.132.25/opt/ml/input/code/readcsv.ipynb#ch0000013vscode-remote?line=4'>5</a>\u001b[0m     \u001b[39m#idxes = bn.argpartition(-ensemble_recon[i], 10)[:10] # 유저에게 추천할 10개 영화를 가져옴\u001b[39;00m\n\u001b[1;32m      <a href='vscode-notebook-cell://ssh-remote%2B118.67.132.25/opt/ml/input/code/readcsv.ipynb#ch0000013vscode-remote?line=5'>6</a>\u001b[0m     idx \u001b[39m=\u001b[39m np\u001b[39m.\u001b[39margpartition(ensemble_recon[i], \u001b[39m-\u001b[39m\u001b[39m10\u001b[39m)[\u001b[39m-\u001b[39m\u001b[39m10\u001b[39m:]\n\u001b[1;32m      <a href='vscode-notebook-cell://ssh-remote%2B118.67.132.25/opt/ml/input/code/readcsv.ipynb#ch0000013vscode-remote?line=6'>7</a>\u001b[0m     tmp \u001b[39m=\u001b[39m \u001b[39mlist\u001b[39m()\n",
      "\u001b[0;31mNameError\u001b[0m: name 'ensemble_recon' is not defined"
     ]
    }
   ],
   "source": [
    "import bottleneck as bn\n",
    "import numpy as np\n",
    "\n",
    "for i in range(len(ensemble_recon)):\n",
    "    #idxes = bn.argpartition(-ensemble_recon[i], 10)[:10] # 유저에게 추천할 10개 영화를 가져옴\n",
    "    idesex = np.argpartition(EASE_recon[i], -10)[-10:]\n",
    "    tmp = list()\n",
    "    # id2show 과정\n",
    "    for j in idxes:                    \n",
    "        tmp.append(list(show2id.keys())[j]) # id2show # = tmp.append(raw_data['item'].unique()[j])\n",
    "    submission_item.append(tmp)"
   ]
  },
  {
   "cell_type": "code",
   "execution_count": 16,
   "metadata": {},
   "outputs": [],
   "source": [
    "import numpy as np\n",
    "\n",
    "submission_item = np.array(submission_item).reshape(-1, 1)\n",
    "submission_user = raw_data['user'].unique().repeat(10)\n",
    "submission_user = np.array(submission_user).reshape(-1, 1)\n",
    "\n",
    "submission_result = np.hstack((submission_user,submission_item))\n",
    "\n",
    "submission_result = pd.DataFrame(submission_result, columns=['user','item'])  \n",
    "submission_result.to_csv('/opt/ml/input/code/output/submission_ensemble.csv', index=False)"
   ]
  },
  {
   "cell_type": "code",
   "execution_count": 13,
   "metadata": {},
   "outputs": [
    {
     "data": {
      "text/plain": [
       "array([[       -inf,        -inf,        -inf, ...,  0.14252954,\n",
       "         2.25595863, -0.98664339],\n",
       "       [ 1.01883781,  1.47645796,  3.39074727, ...,  0.45664406,\n",
       "        -3.50305168, -1.4615251 ],\n",
       "       [ 1.00912631,  0.73428441,  1.29831043, ..., -1.98757644,\n",
       "        -3.79804858, -3.55235351],\n",
       "       ...,\n",
       "       [ 3.02287326,  2.42410858,  3.31759699, ...,  0.51076999,\n",
       "         0.93877496, -2.1228982 ],\n",
       "       [ 0.88669586,  2.09256213,  1.21253069, ..., -1.0818904 ,\n",
       "        -3.48191565, -3.92724124],\n",
       "       [       -inf,  2.64665847,  1.98396785, ..., -0.65758632,\n",
       "        -0.49308467, -2.16603424]])"
      ]
     },
     "execution_count": 13,
     "metadata": {},
     "output_type": "execute_result"
    }
   ],
   "source": [
    "ensemble_recon_norm = RecVAE_recon_norm+MultiVAE_recon_norm\n",
    "ensemble_recon_norm"
   ]
  },
  {
   "cell_type": "code",
   "execution_count": 38,
   "metadata": {},
   "outputs": [
    {
     "data": {
      "text/plain": [
       "array([[        -inf,         -inf,         -inf, ...,  -3.487281  ,\n",
       "          0.90243449,  -5.810754  ],\n",
       "       [ -0.61402476,   0.47073827,   5.4367168 , ...,  -1.88714044,\n",
       "        -12.1374733 ,  -6.9855924 ],\n",
       "       [ -1.07137408,  -1.58849692,  -0.31880377, ...,  -7.0522995 ,\n",
       "        -11.07537   , -10.4643137 ],\n",
       "       ...,\n",
       "       [  3.1899709 ,   1.75485495,   3.8242208 , ...,  -2.7748417 ,\n",
       "         -1.79758442,  -9.2644354 ],\n",
       "       [ -2.43717995,   1.0721011 ,  -1.343003  , ...,  -7.11111   ,\n",
       "        -13.5775509 , -15.0237863 ],\n",
       "       [        -inf,   1.82116074,   0.51478541, ...,  -4.6958065 ,\n",
       "         -4.3690078 ,  -7.6698413 ]])"
      ]
     },
     "execution_count": 38,
     "metadata": {},
     "output_type": "execute_result"
    }
   ],
   "source": [
    "ensemble_recon"
   ]
  },
  {
   "cell_type": "code",
   "execution_count": 84,
   "metadata": {},
   "outputs": [],
   "source": [
    "import bottleneck as bn\n",
    "\n",
    "top_30_item = list()\n",
    "top_30_user = list()\n",
    "top_30_score = list()\n",
    "\n",
    "for i in range(len(MultiVAE_recon)):\n",
    "    idxes = bn.argpartition(-MultiVAE_recon[i], 30)[:30] # 유저에게 추천할 10개 영화를 가져옴\n",
    "    #if i==0 : print(idxes)\n",
    "    score_id_list = list()\n",
    "    #score_list = list()\n",
    "    # id2show 과정\n",
    "    for j in idxes:                    \n",
    "        score_id_list.append([MultiVAE_recon[i][j], list(show2id.keys())[j]]) # id2show # = tmp.append(raw_data['item'].unique()[j])\n",
    "        #score_list.append(RecVAE_recon[i][j])\n",
    "    score_id_list = sorted(score_id_list, reverse=True)\n",
    "    top_30_item.append(np.array(score_id_list).T[1])\n",
    "    top_30_score.append(np.array(score_id_list).T[0])"
   ]
  },
  {
   "cell_type": "code",
   "execution_count": 85,
   "metadata": {},
   "outputs": [],
   "source": [
    "top_30_item = np.array(top_30_item).reshape(-1, 1)\n",
    "top_30_score = np.array(top_30_score).reshape(-1, 1)\n",
    "top_30_user = raw_data['user'].unique().repeat(30)\n",
    "top_30_user = np.array(top_30_user).reshape(-1, 1)\n",
    "\n",
    "top_30_result = np.hstack((top_30_user,top_30_item, top_30_score))\n",
    "\n",
    "top_30_result = pd.DataFrame(top_30_result, columns=['user','item','score'])  \n",
    "top_30_result.to_csv('/opt/ml/input/code/output/MultiVAE_recon_top_30.csv', index=False)"
   ]
  },
  {
   "cell_type": "code",
   "execution_count": 86,
   "metadata": {},
   "outputs": [],
   "source": [
    "import bottleneck as bn\n",
    "\n",
    "top_50_item = list()\n",
    "top_50_user = list()\n",
    "top_50_score = list()\n",
    "\n",
    "for i in range(len(MultiVAE_recon)):\n",
    "    idxes = bn.argpartition(-MultiVAE_recon[i], 30)[:30] # 유저에게 추천할 10개 영화를 가져옴\n",
    "    #id_list = list()\n",
    "    #score_list = list()\n",
    "    score_id_list = list()\n",
    "    # id2show 과정\n",
    "    for j in idxes:                    \n",
    "        score_id_list.append([MultiVAE_recon[i][j], list(show2id.keys())[j]]) \n",
    "        #id_list.append(list(show2id.keys())[j]) # id2show # = tmp.append(raw_data['item'].unique()[j])\n",
    "        #score_list.append(RecVAE_recon[i][j])\n",
    "    top_50_item.append(np.array(score_id_list).T[1])\n",
    "    top_50_score.append(np.array(score_id_list).T[0])"
   ]
  },
  {
   "cell_type": "code",
   "execution_count": 87,
   "metadata": {},
   "outputs": [],
   "source": [
    "top_50_item = np.array(top_50_item).reshape(-1, 1)\n",
    "top_50_score = np.array(top_50_score).reshape(-1, 1)\n",
    "top_50_user = raw_data['user'].unique().repeat(30)\n",
    "top_50_user = np.array(top_50_user).reshape(-1, 1)\n",
    "\n",
    "top_50_result = np.hstack((top_50_user,top_50_item, top_50_score))\n",
    "\n",
    "top_50_result = pd.DataFrame(top_30_result, columns=['user','item','score'])  \n",
    "top_50_result.to_csv('/opt/ml/input/code/output/MultiVAE_recon_top_50.csv', index=False)"
   ]
  },
  {
   "cell_type": "code",
   "execution_count": null,
   "metadata": {},
   "outputs": [],
   "source": []
  }
 ],
 "metadata": {
  "interpreter": {
   "hash": "d4d1e4263499bec80672ea0156c357c1ee493ec2b1c70f0acce89fc37c4a6abe"
  },
  "kernelspec": {
   "display_name": "Python 3.8.5 ('base')",
   "language": "python",
   "name": "python3"
  },
  "language_info": {
   "codemirror_mode": {
    "name": "ipython",
    "version": 3
   },
   "file_extension": ".py",
   "mimetype": "text/x-python",
   "name": "python",
   "nbconvert_exporter": "python",
   "pygments_lexer": "ipython3",
   "version": "3.8.5"
  },
  "orig_nbformat": 4
 },
 "nbformat": 4,
 "nbformat_minor": 2
}
