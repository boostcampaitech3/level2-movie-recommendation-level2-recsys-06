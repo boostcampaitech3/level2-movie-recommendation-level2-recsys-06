{
 "cells": [
  {
   "cell_type": "markdown",
   "metadata": {},
   "source": [
    "# Movie Rec EDA"
   ]
  },
  {
   "cell_type": "markdown",
   "metadata": {},
   "source": [
    "## training set"
   ]
  },
  {
   "cell_type": "code",
   "execution_count": 3,
   "metadata": {},
   "outputs": [],
   "source": [
    "import pandas as pd\n",
    "import matplotlib as mpl\n",
    "import matplotlib.pyplot as plt\n",
    "import seaborn as sns"
   ]
  },
  {
   "cell_type": "code",
   "execution_count": 4,
   "metadata": {},
   "outputs": [
    {
     "data": {
      "text/html": [
       "<div>\n",
       "<style scoped>\n",
       "    .dataframe tbody tr th:only-of-type {\n",
       "        vertical-align: middle;\n",
       "    }\n",
       "\n",
       "    .dataframe tbody tr th {\n",
       "        vertical-align: top;\n",
       "    }\n",
       "\n",
       "    .dataframe thead th {\n",
       "        text-align: right;\n",
       "    }\n",
       "</style>\n",
       "<table border=\"1\" class=\"dataframe\">\n",
       "  <thead>\n",
       "    <tr style=\"text-align: right;\">\n",
       "      <th></th>\n",
       "      <th>user</th>\n",
       "      <th>item</th>\n",
       "      <th>time</th>\n",
       "    </tr>\n",
       "  </thead>\n",
       "  <tbody>\n",
       "    <tr>\n",
       "      <th>0</th>\n",
       "      <td>11</td>\n",
       "      <td>4643</td>\n",
       "      <td>1230782529</td>\n",
       "    </tr>\n",
       "    <tr>\n",
       "      <th>1</th>\n",
       "      <td>11</td>\n",
       "      <td>170</td>\n",
       "      <td>1230782534</td>\n",
       "    </tr>\n",
       "    <tr>\n",
       "      <th>2</th>\n",
       "      <td>11</td>\n",
       "      <td>531</td>\n",
       "      <td>1230782539</td>\n",
       "    </tr>\n",
       "    <tr>\n",
       "      <th>3</th>\n",
       "      <td>11</td>\n",
       "      <td>616</td>\n",
       "      <td>1230782542</td>\n",
       "    </tr>\n",
       "    <tr>\n",
       "      <th>4</th>\n",
       "      <td>11</td>\n",
       "      <td>2140</td>\n",
       "      <td>1230782563</td>\n",
       "    </tr>\n",
       "    <tr>\n",
       "      <th>...</th>\n",
       "      <td>...</td>\n",
       "      <td>...</td>\n",
       "      <td>...</td>\n",
       "    </tr>\n",
       "    <tr>\n",
       "      <th>5154466</th>\n",
       "      <td>138493</td>\n",
       "      <td>44022</td>\n",
       "      <td>1260209449</td>\n",
       "    </tr>\n",
       "    <tr>\n",
       "      <th>5154467</th>\n",
       "      <td>138493</td>\n",
       "      <td>4958</td>\n",
       "      <td>1260209482</td>\n",
       "    </tr>\n",
       "    <tr>\n",
       "      <th>5154468</th>\n",
       "      <td>138493</td>\n",
       "      <td>68319</td>\n",
       "      <td>1260209720</td>\n",
       "    </tr>\n",
       "    <tr>\n",
       "      <th>5154469</th>\n",
       "      <td>138493</td>\n",
       "      <td>40819</td>\n",
       "      <td>1260209726</td>\n",
       "    </tr>\n",
       "    <tr>\n",
       "      <th>5154470</th>\n",
       "      <td>138493</td>\n",
       "      <td>27311</td>\n",
       "      <td>1260209807</td>\n",
       "    </tr>\n",
       "  </tbody>\n",
       "</table>\n",
       "<p>5154471 rows × 3 columns</p>\n",
       "</div>"
      ],
      "text/plain": [
       "           user   item        time\n",
       "0            11   4643  1230782529\n",
       "1            11    170  1230782534\n",
       "2            11    531  1230782539\n",
       "3            11    616  1230782542\n",
       "4            11   2140  1230782563\n",
       "...         ...    ...         ...\n",
       "5154466  138493  44022  1260209449\n",
       "5154467  138493   4958  1260209482\n",
       "5154468  138493  68319  1260209720\n",
       "5154469  138493  40819  1260209726\n",
       "5154470  138493  27311  1260209807\n",
       "\n",
       "[5154471 rows x 3 columns]"
      ]
     },
     "execution_count": 4,
     "metadata": {},
     "output_type": "execute_result"
    }
   ],
   "source": [
    "train_df = pd.read_csv('/opt/ml/input/data/train/train_ratings.csv')\n",
    "train_df"
   ]
  },
  {
   "cell_type": "code",
   "execution_count": 6,
   "metadata": {},
   "outputs": [
    {
     "name": "stdout",
     "output_type": "stream",
     "text": [
      "<class 'pandas.core.frame.DataFrame'>\n",
      "RangeIndex: 5154471 entries, 0 to 5154470\n",
      "Data columns (total 3 columns):\n",
      " #   Column  Dtype\n",
      "---  ------  -----\n",
      " 0   user    int64\n",
      " 1   item    int64\n",
      " 2   time    int64\n",
      "dtypes: int64(3)\n",
      "memory usage: 118.0 MB\n"
     ]
    }
   ],
   "source": [
    "train_df.info()"
   ]
  },
  {
   "cell_type": "code",
   "execution_count": 9,
   "metadata": {},
   "outputs": [
    {
     "data": {
      "text/html": [
       "<div>\n",
       "<style scoped>\n",
       "    .dataframe tbody tr th:only-of-type {\n",
       "        vertical-align: middle;\n",
       "    }\n",
       "\n",
       "    .dataframe tbody tr th {\n",
       "        vertical-align: top;\n",
       "    }\n",
       "\n",
       "    .dataframe thead th {\n",
       "        text-align: right;\n",
       "    }\n",
       "</style>\n",
       "<table border=\"1\" class=\"dataframe\">\n",
       "  <thead>\n",
       "    <tr style=\"text-align: right;\">\n",
       "      <th></th>\n",
       "      <th>user</th>\n",
       "      <th>item</th>\n",
       "      <th>time</th>\n",
       "    </tr>\n",
       "  </thead>\n",
       "  <tbody>\n",
       "    <tr>\n",
       "      <th>count</th>\n",
       "      <td>5.154471e+06</td>\n",
       "      <td>5.154471e+06</td>\n",
       "      <td>5.154471e+06</td>\n",
       "    </tr>\n",
       "    <tr>\n",
       "      <th>mean</th>\n",
       "      <td>6.875153e+04</td>\n",
       "      <td>1.716849e+04</td>\n",
       "      <td>1.248017e+09</td>\n",
       "    </tr>\n",
       "    <tr>\n",
       "      <th>std</th>\n",
       "      <td>3.993460e+04</td>\n",
       "      <td>2.633563e+04</td>\n",
       "      <td>8.968302e+07</td>\n",
       "    </tr>\n",
       "    <tr>\n",
       "      <th>min</th>\n",
       "      <td>1.100000e+01</td>\n",
       "      <td>1.000000e+00</td>\n",
       "      <td>1.113221e+09</td>\n",
       "    </tr>\n",
       "    <tr>\n",
       "      <th>25%</th>\n",
       "      <td>3.419900e+04</td>\n",
       "      <td>1.304000e+03</td>\n",
       "      <td>1.170355e+09</td>\n",
       "    </tr>\n",
       "    <tr>\n",
       "      <th>50%</th>\n",
       "      <td>6.860500e+04</td>\n",
       "      <td>3.897000e+03</td>\n",
       "      <td>1.234651e+09</td>\n",
       "    </tr>\n",
       "    <tr>\n",
       "      <th>75%</th>\n",
       "      <td>1.032010e+05</td>\n",
       "      <td>2.671200e+04</td>\n",
       "      <td>1.318284e+09</td>\n",
       "    </tr>\n",
       "    <tr>\n",
       "      <th>max</th>\n",
       "      <td>1.384930e+05</td>\n",
       "      <td>1.191450e+05</td>\n",
       "      <td>1.427781e+09</td>\n",
       "    </tr>\n",
       "  </tbody>\n",
       "</table>\n",
       "</div>"
      ],
      "text/plain": [
       "               user          item          time\n",
       "count  5.154471e+06  5.154471e+06  5.154471e+06\n",
       "mean   6.875153e+04  1.716849e+04  1.248017e+09\n",
       "std    3.993460e+04  2.633563e+04  8.968302e+07\n",
       "min    1.100000e+01  1.000000e+00  1.113221e+09\n",
       "25%    3.419900e+04  1.304000e+03  1.170355e+09\n",
       "50%    6.860500e+04  3.897000e+03  1.234651e+09\n",
       "75%    1.032010e+05  2.671200e+04  1.318284e+09\n",
       "max    1.384930e+05  1.191450e+05  1.427781e+09"
      ]
     },
     "execution_count": 9,
     "metadata": {},
     "output_type": "execute_result"
    }
   ],
   "source": [
    "train_df.describe(include=\"all\")"
   ]
  },
  {
   "cell_type": "code",
   "execution_count": 17,
   "metadata": {},
   "outputs": [
    {
     "name": "stdout",
     "output_type": "stream",
     "text": [
      "훈련 데이터셋의 유저 수 :  31360\n"
     ]
    }
   ],
   "source": [
    "print(\"훈련 데이터셋의 유저 수 : \", train_df[\"user\"].nunique())"
   ]
  },
  {
   "cell_type": "code",
   "execution_count": 16,
   "metadata": {},
   "outputs": [
    {
     "name": "stdout",
     "output_type": "stream",
     "text": [
      "훈련 데이터셋의 영화 수 :  6807\n"
     ]
    }
   ],
   "source": [
    "print(\"훈련 데이터셋의 영화 수 : \", train_df[\"item\"].nunique())"
   ]
  },
  {
   "cell_type": "code",
   "execution_count": 97,
   "metadata": {},
   "outputs": [
    {
     "name": "stdout",
     "output_type": "stream",
     "text": [
      "영화를 많이 본 유저들 순위\n"
     ]
    },
    {
     "data": {
      "text/plain": [
       "8405      2912\n",
       "54465     1980\n",
       "24219     1842\n",
       "32514     1830\n",
       "91349     1795\n",
       "          ... \n",
       "11211       32\n",
       "128756      28\n",
       "105578      22\n",
       "68606       19\n",
       "53188       16\n",
       "Name: user, Length: 31360, dtype: int64"
      ]
     },
     "execution_count": 97,
     "metadata": {},
     "output_type": "execute_result"
    }
   ],
   "source": [
    "print(\"영화를 많이 본 유저들 순위\")\n",
    "train_df[\"user\"].value_counts().sort_values(ascending=False)"
   ]
  },
  {
   "cell_type": "code",
   "execution_count": 98,
   "metadata": {},
   "outputs": [
    {
     "name": "stdout",
     "output_type": "stream",
     "text": [
      "유저들이 많이 본 영화들 순위\n"
     ]
    },
    {
     "data": {
      "text/plain": [
       "2571     19699\n",
       "2959     18437\n",
       "296      18202\n",
       "318      18168\n",
       "356      17339\n",
       "         ...  \n",
       "7259        38\n",
       "126         36\n",
       "4241        34\n",
       "2555        34\n",
       "51372       27\n",
       "Name: item, Length: 6807, dtype: int64"
      ]
     },
     "execution_count": 98,
     "metadata": {},
     "output_type": "execute_result"
    }
   ],
   "source": [
    "print(\"유저들이 많이 본 영화들 순위\")\n",
    "train_df[\"item\"].value_counts().sort_values(ascending=False)"
   ]
  },
  {
   "cell_type": "code",
   "execution_count": 13,
   "metadata": {},
   "outputs": [
    {
     "data": {
      "text/html": [
       "<div>\n",
       "<style scoped>\n",
       "    .dataframe tbody tr th:only-of-type {\n",
       "        vertical-align: middle;\n",
       "    }\n",
       "\n",
       "    .dataframe tbody tr th {\n",
       "        vertical-align: top;\n",
       "    }\n",
       "\n",
       "    .dataframe thead th {\n",
       "        text-align: right;\n",
       "    }\n",
       "</style>\n",
       "<table border=\"1\" class=\"dataframe\">\n",
       "  <thead>\n",
       "    <tr style=\"text-align: right;\">\n",
       "      <th></th>\n",
       "      <th>user</th>\n",
       "      <th>item</th>\n",
       "      <th>time</th>\n",
       "    </tr>\n",
       "  </thead>\n",
       "  <tbody>\n",
       "  </tbody>\n",
       "</table>\n",
       "</div>"
      ],
      "text/plain": [
       "Empty DataFrame\n",
       "Columns: [user, item, time]\n",
       "Index: []"
      ]
     },
     "execution_count": 13,
     "metadata": {},
     "output_type": "execute_result"
    }
   ],
   "source": [
    "train_df[train_df.loc[:, [\"user\", \"item\"]].duplicated()]\n",
    "# 사용자가 같은 영화를 두 번 이상 본 경우는 없다"
   ]
  },
  {
   "cell_type": "code",
   "execution_count": 103,
   "metadata": {},
   "outputs": [
    {
     "name": "stdout",
     "output_type": "stream",
     "text": [
      "Data sparsity ratio:  0.9758536052697853\n"
     ]
    }
   ],
   "source": [
    "print(\"Data sparsity ratio: \", 1 - len(train_df) / (train_df[\"user\"].nunique() * train_df[\"item\"].nunique()))"
   ]
  },
  {
   "cell_type": "markdown",
   "metadata": {},
   "source": [
    "데이터의 sparsity ratio는 약 97.6%로 일반적인 추천 시스템 데이터셋에 비해 굉장히 dense한 (행렬 상 이력의 많은 부분이 채워져 있는) 데이터임을 알 수 있습니다."
   ]
  },
  {
   "cell_type": "markdown",
   "metadata": {},
   "source": [
    "## Side Information"
   ]
  },
  {
   "cell_type": "code",
   "execution_count": 15,
   "metadata": {},
   "outputs": [],
   "source": [
    "year_data_df = pd.read_csv('/opt/ml/input/data/train/years.tsv', sep=\"\\t\")\n",
    "writers_data_df = pd.read_csv('/opt/ml/input/data/train/writers.tsv', sep=\"\\t\")\n",
    "directors_data_df = pd.read_csv('/opt/ml/input/data/train/directors.tsv', sep=\"\\t\")\n",
    "titles_data_df = pd.read_csv('/opt/ml/input/data/train/titles.tsv', sep=\"\\t\")\n",
    "genres_data_df = pd.read_csv('/opt/ml/input/data/train/genres.tsv', sep=\"\\t\")"
   ]
  },
  {
   "cell_type": "markdown",
   "metadata": {},
   "source": [
    "### year"
   ]
  },
  {
   "cell_type": "code",
   "execution_count": 55,
   "metadata": {},
   "outputs": [
    {
     "data": {
      "text/html": [
       "<div>\n",
       "<style scoped>\n",
       "    .dataframe tbody tr th:only-of-type {\n",
       "        vertical-align: middle;\n",
       "    }\n",
       "\n",
       "    .dataframe tbody tr th {\n",
       "        vertical-align: top;\n",
       "    }\n",
       "\n",
       "    .dataframe thead th {\n",
       "        text-align: right;\n",
       "    }\n",
       "</style>\n",
       "<table border=\"1\" class=\"dataframe\">\n",
       "  <thead>\n",
       "    <tr style=\"text-align: right;\">\n",
       "      <th></th>\n",
       "      <th>item</th>\n",
       "      <th>year</th>\n",
       "    </tr>\n",
       "  </thead>\n",
       "  <tbody>\n",
       "    <tr>\n",
       "      <th>0</th>\n",
       "      <td>1348</td>\n",
       "      <td>1922</td>\n",
       "    </tr>\n",
       "    <tr>\n",
       "      <th>1</th>\n",
       "      <td>44587</td>\n",
       "      <td>1922</td>\n",
       "    </tr>\n",
       "    <tr>\n",
       "      <th>2</th>\n",
       "      <td>4768</td>\n",
       "      <td>1922</td>\n",
       "    </tr>\n",
       "    <tr>\n",
       "      <th>3</th>\n",
       "      <td>8235</td>\n",
       "      <td>1923</td>\n",
       "    </tr>\n",
       "    <tr>\n",
       "      <th>4</th>\n",
       "      <td>8609</td>\n",
       "      <td>1923</td>\n",
       "    </tr>\n",
       "    <tr>\n",
       "      <th>...</th>\n",
       "      <td>...</td>\n",
       "      <td>...</td>\n",
       "    </tr>\n",
       "    <tr>\n",
       "      <th>6794</th>\n",
       "      <td>114795</td>\n",
       "      <td>2014</td>\n",
       "    </tr>\n",
       "    <tr>\n",
       "      <th>6795</th>\n",
       "      <td>110771</td>\n",
       "      <td>2014</td>\n",
       "    </tr>\n",
       "    <tr>\n",
       "      <th>6796</th>\n",
       "      <td>112804</td>\n",
       "      <td>2014</td>\n",
       "    </tr>\n",
       "    <tr>\n",
       "      <th>6797</th>\n",
       "      <td>113378</td>\n",
       "      <td>2014</td>\n",
       "    </tr>\n",
       "    <tr>\n",
       "      <th>6798</th>\n",
       "      <td>109850</td>\n",
       "      <td>2014</td>\n",
       "    </tr>\n",
       "  </tbody>\n",
       "</table>\n",
       "<p>6799 rows × 2 columns</p>\n",
       "</div>"
      ],
      "text/plain": [
       "        item  year\n",
       "0       1348  1922\n",
       "1      44587  1922\n",
       "2       4768  1922\n",
       "3       8235  1923\n",
       "4       8609  1923\n",
       "...      ...   ...\n",
       "6794  114795  2014\n",
       "6795  110771  2014\n",
       "6796  112804  2014\n",
       "6797  113378  2014\n",
       "6798  109850  2014\n",
       "\n",
       "[6799 rows x 2 columns]"
      ]
     },
     "execution_count": 55,
     "metadata": {},
     "output_type": "execute_result"
    }
   ],
   "source": [
    "year_data_df"
   ]
  },
  {
   "cell_type": "code",
   "execution_count": 256,
   "metadata": {},
   "outputs": [
    {
     "data": {
      "text/plain": [
       "<AxesSubplot:xlabel='year', ylabel='Density'>"
      ]
     },
     "execution_count": 256,
     "metadata": {},
     "output_type": "execute_result"
    },
    {
     "data": {
      "image/png": "[encoded data removed]",
      "text/plain": [
       "<Figure size 1440x720 with 1 Axes>"
      ]
     },
     "metadata": {
      "needs_background": "light"
     },
     "output_type": "display_data"
    }
   ],
   "source": [
    "plt.figure(figsize=(20, 10))\n",
    "sns.kdeplot(x=\"year\", data=year_data_df, fill=True)\n"
   ]
  },
  {
   "cell_type": "markdown",
   "metadata": {},
   "source": [
    "### writers"
   ]
  },
  {
   "cell_type": "code",
   "execution_count": 56,
   "metadata": {},
   "outputs": [
    {
     "data": {
      "text/html": [
       "<div>\n",
       "<style scoped>\n",
       "    .dataframe tbody tr th:only-of-type {\n",
       "        vertical-align: middle;\n",
       "    }\n",
       "\n",
       "    .dataframe tbody tr th {\n",
       "        vertical-align: top;\n",
       "    }\n",
       "\n",
       "    .dataframe thead th {\n",
       "        text-align: right;\n",
       "    }\n",
       "</style>\n",
       "<table border=\"1\" class=\"dataframe\">\n",
       "  <thead>\n",
       "    <tr style=\"text-align: right;\">\n",
       "      <th></th>\n",
       "      <th>item</th>\n",
       "      <th>writer</th>\n",
       "    </tr>\n",
       "  </thead>\n",
       "  <tbody>\n",
       "    <tr>\n",
       "      <th>0</th>\n",
       "      <td>1237</td>\n",
       "      <td>nm0000005</td>\n",
       "    </tr>\n",
       "    <tr>\n",
       "      <th>1</th>\n",
       "      <td>5147</td>\n",
       "      <td>nm0000005</td>\n",
       "    </tr>\n",
       "    <tr>\n",
       "      <th>2</th>\n",
       "      <td>7327</td>\n",
       "      <td>nm0000005</td>\n",
       "    </tr>\n",
       "    <tr>\n",
       "      <th>3</th>\n",
       "      <td>2068</td>\n",
       "      <td>nm0000005</td>\n",
       "    </tr>\n",
       "    <tr>\n",
       "      <th>4</th>\n",
       "      <td>7396</td>\n",
       "      <td>nm0000005</td>\n",
       "    </tr>\n",
       "    <tr>\n",
       "      <th>...</th>\n",
       "      <td>...</td>\n",
       "      <td>...</td>\n",
       "    </tr>\n",
       "    <tr>\n",
       "      <th>11301</th>\n",
       "      <td>27397</td>\n",
       "      <td>nm5371819</td>\n",
       "    </tr>\n",
       "    <tr>\n",
       "      <th>11302</th>\n",
       "      <td>2987</td>\n",
       "      <td>nm5927607</td>\n",
       "    </tr>\n",
       "    <tr>\n",
       "      <th>11303</th>\n",
       "      <td>33463</td>\n",
       "      <td>nm5927607</td>\n",
       "    </tr>\n",
       "    <tr>\n",
       "      <th>11304</th>\n",
       "      <td>2987</td>\n",
       "      <td>nm5927608</td>\n",
       "    </tr>\n",
       "    <tr>\n",
       "      <th>11305</th>\n",
       "      <td>33463</td>\n",
       "      <td>nm5927608</td>\n",
       "    </tr>\n",
       "  </tbody>\n",
       "</table>\n",
       "<p>11306 rows × 2 columns</p>\n",
       "</div>"
      ],
      "text/plain": [
       "        item     writer\n",
       "0       1237  nm0000005\n",
       "1       5147  nm0000005\n",
       "2       7327  nm0000005\n",
       "3       2068  nm0000005\n",
       "4       7396  nm0000005\n",
       "...      ...        ...\n",
       "11301  27397  nm5371819\n",
       "11302   2987  nm5927607\n",
       "11303  33463  nm5927607\n",
       "11304   2987  nm5927608\n",
       "11305  33463  nm5927608\n",
       "\n",
       "[11306 rows x 2 columns]"
      ]
     },
     "execution_count": 56,
     "metadata": {},
     "output_type": "execute_result"
    }
   ],
   "source": [
    "writers_data_df"
   ]
  },
  {
   "cell_type": "code",
   "execution_count": 64,
   "metadata": {},
   "outputs": [
    {
     "name": "stdout",
     "output_type": "stream",
     "text": [
      "작가의 수 :  2989\n"
     ]
    }
   ],
   "source": [
    "print(\"작가의 수 : \", writers_data_df[\"writer\"].nunique())"
   ]
  },
  {
   "cell_type": "code",
   "execution_count": 67,
   "metadata": {},
   "outputs": [
    {
     "name": "stdout",
     "output_type": "stream",
     "text": [
      "영화의 수 :  5648\n"
     ]
    }
   ],
   "source": [
    "print(\"영화의 수 : \", writers_data_df[\"item\"].nunique())"
   ]
  },
  {
   "cell_type": "code",
   "execution_count": 118,
   "metadata": {},
   "outputs": [
    {
     "name": "stdout",
     "output_type": "stream",
     "text": [
      "영화를 가장 많이 집필한 작가 순위\n"
     ]
    },
    {
     "data": {
      "text/plain": [
       "nm0000095    47\n",
       "nm0000636    35\n",
       "nm0000175    32\n",
       "nm0372942    30\n",
       "nm0000108    29\n",
       "             ..\n",
       "nm0957652     2\n",
       "nm0957205     2\n",
       "nm0793881     2\n",
       "nm0954664     2\n",
       "nm5927608     2\n",
       "Name: writer, Length: 2989, dtype: int64"
      ]
     },
     "execution_count": 118,
     "metadata": {},
     "output_type": "execute_result"
    }
   ],
   "source": [
    "print(\"영화를 가장 많이 집필한 작가 순위\")\n",
    "writers_data_df[\"writer\"].value_counts().sort_values(ascending=False)"
   ]
  },
  {
   "cell_type": "code",
   "execution_count": 128,
   "metadata": {},
   "outputs": [
    {
     "name": "stdout",
     "output_type": "stream",
     "text": [
      "가장 많은 작가들이 집필한 영화 순위\n"
     ]
    },
    {
     "data": {
      "text/plain": [
       "item   title                              \n",
       "1907   Mulan (1998)                           24\n",
       "783    Hunchback of Notre Dame, The (1996)    23\n",
       "2687   Tarzan (1999)                          21\n",
       "364    Lion King, The (1994)                  21\n",
       "6889   Brother Bear (2003)                    19\n",
       "                                              ..\n",
       "84601  Unknown (2011)                          1\n",
       "91233  Lifted (2006)                           1\n",
       "74868  Dorian Gray (2009)                      1\n",
       "91414  Arthur Christmas (2011)                 1\n",
       "6409   Bend of the River (1952)                1\n",
       "Length: 5648, dtype: int64"
      ]
     },
     "execution_count": 128,
     "metadata": {},
     "output_type": "execute_result"
    }
   ],
   "source": [
    "print(\"가장 많은 작가들이 집필한 영화 순위\")\n",
    "pd.merge(writers_data_df, titles_data_df, on=[\"item\"]).value_counts([\"item\", \"title\"]).sort_values(ascending=False)"
   ]
  },
  {
   "cell_type": "markdown",
   "metadata": {},
   "source": [
    "### directors"
   ]
  },
  {
   "cell_type": "code",
   "execution_count": 70,
   "metadata": {},
   "outputs": [
    {
     "data": {
      "text/html": [
       "<div>\n",
       "<style scoped>\n",
       "    .dataframe tbody tr th:only-of-type {\n",
       "        vertical-align: middle;\n",
       "    }\n",
       "\n",
       "    .dataframe tbody tr th {\n",
       "        vertical-align: top;\n",
       "    }\n",
       "\n",
       "    .dataframe thead th {\n",
       "        text-align: right;\n",
       "    }\n",
       "</style>\n",
       "<table border=\"1\" class=\"dataframe\">\n",
       "  <thead>\n",
       "    <tr style=\"text-align: right;\">\n",
       "      <th></th>\n",
       "      <th>item</th>\n",
       "      <th>director</th>\n",
       "    </tr>\n",
       "  </thead>\n",
       "  <tbody>\n",
       "    <tr>\n",
       "      <th>0</th>\n",
       "      <td>1237</td>\n",
       "      <td>nm0000005</td>\n",
       "    </tr>\n",
       "    <tr>\n",
       "      <th>1</th>\n",
       "      <td>5147</td>\n",
       "      <td>nm0000005</td>\n",
       "    </tr>\n",
       "    <tr>\n",
       "      <th>2</th>\n",
       "      <td>7327</td>\n",
       "      <td>nm0000005</td>\n",
       "    </tr>\n",
       "    <tr>\n",
       "      <th>3</th>\n",
       "      <td>2068</td>\n",
       "      <td>nm0000005</td>\n",
       "    </tr>\n",
       "    <tr>\n",
       "      <th>4</th>\n",
       "      <td>7396</td>\n",
       "      <td>nm0000005</td>\n",
       "    </tr>\n",
       "    <tr>\n",
       "      <th>...</th>\n",
       "      <td>...</td>\n",
       "      <td>...</td>\n",
       "    </tr>\n",
       "    <tr>\n",
       "      <th>5900</th>\n",
       "      <td>84273</td>\n",
       "      <td>nm2879822</td>\n",
       "    </tr>\n",
       "    <tr>\n",
       "      <th>5901</th>\n",
       "      <td>58376</td>\n",
       "      <td>nm2879822</td>\n",
       "    </tr>\n",
       "    <tr>\n",
       "      <th>5902</th>\n",
       "      <td>65225</td>\n",
       "      <td>nm2879822</td>\n",
       "    </tr>\n",
       "    <tr>\n",
       "      <th>5903</th>\n",
       "      <td>2394</td>\n",
       "      <td>nm9054338</td>\n",
       "    </tr>\n",
       "    <tr>\n",
       "      <th>5904</th>\n",
       "      <td>55768</td>\n",
       "      <td>nm9054338</td>\n",
       "    </tr>\n",
       "  </tbody>\n",
       "</table>\n",
       "<p>5905 rows × 2 columns</p>\n",
       "</div>"
      ],
      "text/plain": [
       "       item   director\n",
       "0      1237  nm0000005\n",
       "1      5147  nm0000005\n",
       "2      7327  nm0000005\n",
       "3      2068  nm0000005\n",
       "4      7396  nm0000005\n",
       "...     ...        ...\n",
       "5900  84273  nm2879822\n",
       "5901  58376  nm2879822\n",
       "5902  65225  nm2879822\n",
       "5903   2394  nm9054338\n",
       "5904  55768  nm9054338\n",
       "\n",
       "[5905 rows x 2 columns]"
      ]
     },
     "execution_count": 70,
     "metadata": {},
     "output_type": "execute_result"
    }
   ],
   "source": [
    "directors_data_df"
   ]
  },
  {
   "cell_type": "code",
   "execution_count": 77,
   "metadata": {},
   "outputs": [
    {
     "name": "stdout",
     "output_type": "stream",
     "text": [
      "감독의 수 :  1340\n"
     ]
    }
   ],
   "source": [
    "print(\"감독의 수 : \", directors_data_df[\"director\"].nunique())"
   ]
  },
  {
   "cell_type": "code",
   "execution_count": 78,
   "metadata": {},
   "outputs": [
    {
     "name": "stdout",
     "output_type": "stream",
     "text": [
      "영화의 수 :  5503\n"
     ]
    }
   ],
   "source": [
    "print(\"영화의 수 : \", directors_data_df[\"item\"].nunique())"
   ]
  },
  {
   "cell_type": "code",
   "execution_count": 131,
   "metadata": {},
   "outputs": [
    {
     "name": "stdout",
     "output_type": "stream",
     "text": [
      "영화에 가장 많이 참여한 감독 순위\n"
     ]
    },
    {
     "data": {
      "text/plain": [
       "nm0000095    44\n",
       "nm0000033    33\n",
       "nm0000142    31\n",
       "nm0000229    29\n",
       "nm0000217    26\n",
       "             ..\n",
       "nm0146341     2\n",
       "nm0145336     2\n",
       "nm0138927     2\n",
       "nm0138893     2\n",
       "nm9054338     2\n",
       "Name: director, Length: 1340, dtype: int64"
      ]
     },
     "execution_count": 131,
     "metadata": {},
     "output_type": "execute_result"
    }
   ],
   "source": [
    "print(\"영화에 가장 많이 참여한 감독 순위\")\n",
    "directors_data_df[\"director\"].value_counts().sort_values(ascending=False)"
   ]
  },
  {
   "cell_type": "code",
   "execution_count": 132,
   "metadata": {},
   "outputs": [
    {
     "name": "stdout",
     "output_type": "stream",
     "text": [
      "감독들이 가장 많이 참여한 영화 순위\n"
     ]
    },
    {
     "data": {
      "text/plain": [
       "item    title                                      \n",
       "50912   Paris, I Love You (Paris, je t'aime) (2006)    14\n",
       "1282    Fantasia (1940)                                10\n",
       "27002   From the Earth to the Moon (1998)               8\n",
       "71823   New York, I Love You (2009)                     7\n",
       "596     Pinocchio (1940)                                7\n",
       "                                                       ..\n",
       "93265   Courageous (2011)                               1\n",
       "93272   Dr. Seuss' The Lorax (2012)                     1\n",
       "93287   Big Year, The (2011)                            1\n",
       "93297   Act of Valor (2012)                             1\n",
       "119145  Kingsman: The Secret Service (2015)             1\n",
       "Length: 5503, dtype: int64"
      ]
     },
     "execution_count": 132,
     "metadata": {},
     "output_type": "execute_result"
    }
   ],
   "source": [
    "print(\"감독들이 가장 많이 참여한 영화 순위\")\n",
    "pd.merge(directors_data_df, titles_data_df, on=[\"item\"]).value_counts([\"item\", \"title\"]).sort_values(ascending=False)"
   ]
  },
  {
   "cell_type": "markdown",
   "metadata": {},
   "source": [
    "### titles"
   ]
  },
  {
   "cell_type": "code",
   "execution_count": 71,
   "metadata": {},
   "outputs": [
    {
     "data": {
      "text/html": [
       "<div>\n",
       "<style scoped>\n",
       "    .dataframe tbody tr th:only-of-type {\n",
       "        vertical-align: middle;\n",
       "    }\n",
       "\n",
       "    .dataframe tbody tr th {\n",
       "        vertical-align: top;\n",
       "    }\n",
       "\n",
       "    .dataframe thead th {\n",
       "        text-align: right;\n",
       "    }\n",
       "</style>\n",
       "<table border=\"1\" class=\"dataframe\">\n",
       "  <thead>\n",
       "    <tr style=\"text-align: right;\">\n",
       "      <th></th>\n",
       "      <th>item</th>\n",
       "      <th>title</th>\n",
       "    </tr>\n",
       "  </thead>\n",
       "  <tbody>\n",
       "    <tr>\n",
       "      <th>0</th>\n",
       "      <td>318</td>\n",
       "      <td>Shawshank Redemption, The (1994)</td>\n",
       "    </tr>\n",
       "    <tr>\n",
       "      <th>1</th>\n",
       "      <td>2571</td>\n",
       "      <td>Matrix, The (1999)</td>\n",
       "    </tr>\n",
       "    <tr>\n",
       "      <th>2</th>\n",
       "      <td>2959</td>\n",
       "      <td>Fight Club (1999)</td>\n",
       "    </tr>\n",
       "    <tr>\n",
       "      <th>3</th>\n",
       "      <td>296</td>\n",
       "      <td>Pulp Fiction (1994)</td>\n",
       "    </tr>\n",
       "    <tr>\n",
       "      <th>4</th>\n",
       "      <td>356</td>\n",
       "      <td>Forrest Gump (1994)</td>\n",
       "    </tr>\n",
       "    <tr>\n",
       "      <th>...</th>\n",
       "      <td>...</td>\n",
       "      <td>...</td>\n",
       "    </tr>\n",
       "    <tr>\n",
       "      <th>6802</th>\n",
       "      <td>73106</td>\n",
       "      <td>American Pie Presents: The Book of Love (Ameri...</td>\n",
       "    </tr>\n",
       "    <tr>\n",
       "      <th>6803</th>\n",
       "      <td>109850</td>\n",
       "      <td>Need for Speed (2014)</td>\n",
       "    </tr>\n",
       "    <tr>\n",
       "      <th>6804</th>\n",
       "      <td>8605</td>\n",
       "      <td>Taxi 3 (2003)</td>\n",
       "    </tr>\n",
       "    <tr>\n",
       "      <th>6805</th>\n",
       "      <td>3689</td>\n",
       "      <td>Porky's II: The Next Day (1983)</td>\n",
       "    </tr>\n",
       "    <tr>\n",
       "      <th>6806</th>\n",
       "      <td>8130</td>\n",
       "      <td>Girl Next Door, The (1999)</td>\n",
       "    </tr>\n",
       "  </tbody>\n",
       "</table>\n",
       "<p>6807 rows × 2 columns</p>\n",
       "</div>"
      ],
      "text/plain": [
       "        item                                              title\n",
       "0        318                   Shawshank Redemption, The (1994)\n",
       "1       2571                                 Matrix, The (1999)\n",
       "2       2959                                  Fight Club (1999)\n",
       "3        296                                Pulp Fiction (1994)\n",
       "4        356                                Forrest Gump (1994)\n",
       "...      ...                                                ...\n",
       "6802   73106  American Pie Presents: The Book of Love (Ameri...\n",
       "6803  109850                              Need for Speed (2014)\n",
       "6804    8605                                      Taxi 3 (2003)\n",
       "6805    3689                    Porky's II: The Next Day (1983)\n",
       "6806    8130                         Girl Next Door, The (1999)\n",
       "\n",
       "[6807 rows x 2 columns]"
      ]
     },
     "execution_count": 71,
     "metadata": {},
     "output_type": "execute_result"
    }
   ],
   "source": [
    "titles_data_df"
   ]
  },
  {
   "cell_type": "code",
   "execution_count": 85,
   "metadata": {},
   "outputs": [
    {
     "name": "stdout",
     "output_type": "stream",
     "text": [
      "영화의 수 :  6807\n"
     ]
    }
   ],
   "source": [
    "print(\"영화의 수 : \", titles_data_df[\"item\"].nunique())"
   ]
  },
  {
   "cell_type": "markdown",
   "metadata": {},
   "source": [
    "### genres"
   ]
  },
  {
   "cell_type": "code",
   "execution_count": 72,
   "metadata": {},
   "outputs": [
    {
     "data": {
      "text/html": [
       "<div>\n",
       "<style scoped>\n",
       "    .dataframe tbody tr th:only-of-type {\n",
       "        vertical-align: middle;\n",
       "    }\n",
       "\n",
       "    .dataframe tbody tr th {\n",
       "        vertical-align: top;\n",
       "    }\n",
       "\n",
       "    .dataframe thead th {\n",
       "        text-align: right;\n",
       "    }\n",
       "</style>\n",
       "<table border=\"1\" class=\"dataframe\">\n",
       "  <thead>\n",
       "    <tr style=\"text-align: right;\">\n",
       "      <th></th>\n",
       "      <th>item</th>\n",
       "      <th>genre</th>\n",
       "    </tr>\n",
       "  </thead>\n",
       "  <tbody>\n",
       "    <tr>\n",
       "      <th>0</th>\n",
       "      <td>318</td>\n",
       "      <td>Crime</td>\n",
       "    </tr>\n",
       "    <tr>\n",
       "      <th>1</th>\n",
       "      <td>318</td>\n",
       "      <td>Drama</td>\n",
       "    </tr>\n",
       "    <tr>\n",
       "      <th>2</th>\n",
       "      <td>2571</td>\n",
       "      <td>Action</td>\n",
       "    </tr>\n",
       "    <tr>\n",
       "      <th>3</th>\n",
       "      <td>2571</td>\n",
       "      <td>Sci-Fi</td>\n",
       "    </tr>\n",
       "    <tr>\n",
       "      <th>4</th>\n",
       "      <td>2571</td>\n",
       "      <td>Thriller</td>\n",
       "    </tr>\n",
       "    <tr>\n",
       "      <th>...</th>\n",
       "      <td>...</td>\n",
       "      <td>...</td>\n",
       "    </tr>\n",
       "    <tr>\n",
       "      <th>15928</th>\n",
       "      <td>109850</td>\n",
       "      <td>Drama</td>\n",
       "    </tr>\n",
       "    <tr>\n",
       "      <th>15929</th>\n",
       "      <td>8605</td>\n",
       "      <td>Action</td>\n",
       "    </tr>\n",
       "    <tr>\n",
       "      <th>15930</th>\n",
       "      <td>8605</td>\n",
       "      <td>Comedy</td>\n",
       "    </tr>\n",
       "    <tr>\n",
       "      <th>15931</th>\n",
       "      <td>3689</td>\n",
       "      <td>Comedy</td>\n",
       "    </tr>\n",
       "    <tr>\n",
       "      <th>15932</th>\n",
       "      <td>8130</td>\n",
       "      <td>Documentary</td>\n",
       "    </tr>\n",
       "  </tbody>\n",
       "</table>\n",
       "<p>15933 rows × 2 columns</p>\n",
       "</div>"
      ],
      "text/plain": [
       "         item        genre\n",
       "0         318        Crime\n",
       "1         318        Drama\n",
       "2        2571       Action\n",
       "3        2571       Sci-Fi\n",
       "4        2571     Thriller\n",
       "...       ...          ...\n",
       "15928  109850        Drama\n",
       "15929    8605       Action\n",
       "15930    8605       Comedy\n",
       "15931    3689       Comedy\n",
       "15932    8130  Documentary\n",
       "\n",
       "[15933 rows x 2 columns]"
      ]
     },
     "execution_count": 72,
     "metadata": {},
     "output_type": "execute_result"
    }
   ],
   "source": [
    "genres_data_df"
   ]
  },
  {
   "cell_type": "code",
   "execution_count": 86,
   "metadata": {},
   "outputs": [
    {
     "name": "stdout",
     "output_type": "stream",
     "text": [
      "장르의 수 :  18\n"
     ]
    }
   ],
   "source": [
    "print(\"장르의 수 : \", genres_data_df[\"genre\"].nunique())"
   ]
  },
  {
   "cell_type": "code",
   "execution_count": 87,
   "metadata": {},
   "outputs": [
    {
     "name": "stdout",
     "output_type": "stream",
     "text": [
      "영화의 수 :  6807\n"
     ]
    }
   ],
   "source": [
    "print(\"영화의 수 : \", genres_data_df[\"item\"].nunique())"
   ]
  },
  {
   "cell_type": "code",
   "execution_count": 89,
   "metadata": {},
   "outputs": [
    {
     "name": "stdout",
     "output_type": "stream",
     "text": [
      "가장 많은 장르를 가지고 있는 영화 순위\n"
     ]
    },
    {
     "data": {
      "text/plain": [
       "81132    10\n",
       "26701     8\n",
       "1907      7\n",
       "6902      7\n",
       "43932     7\n",
       "         ..\n",
       "921       1\n",
       "4021      1\n",
       "58351     1\n",
       "3224      1\n",
       "8130      1\n",
       "Name: item, Length: 6807, dtype: int64"
      ]
     },
     "execution_count": 89,
     "metadata": {},
     "output_type": "execute_result"
    }
   ],
   "source": [
    "print(\"가장 많은 장르를 가지고 있는 영화 순위\")\n",
    "genres_data_df[\"item\"].value_counts().sort_values(ascending=False)"
   ]
  },
  {
   "cell_type": "code",
   "execution_count": 90,
   "metadata": {},
   "outputs": [
    {
     "name": "stdout",
     "output_type": "stream",
     "text": [
      "영화 장르 순위\n"
     ]
    },
    {
     "data": {
      "text/plain": [
       "Drama          3490\n",
       "Comedy         2408\n",
       "Thriller       1466\n",
       "Romance        1251\n",
       "Action         1246\n",
       "Crime           924\n",
       "Adventure       891\n",
       "Sci-Fi          653\n",
       "Horror          602\n",
       "Fantasy         557\n",
       "Mystery         471\n",
       "Children        432\n",
       "Animation       355\n",
       "War             346\n",
       "Documentary     323\n",
       "Musical         282\n",
       "Western         139\n",
       "Film-Noir        97\n",
       "Name: genre, dtype: int64"
      ]
     },
     "execution_count": 90,
     "metadata": {},
     "output_type": "execute_result"
    }
   ],
   "source": [
    "print(\"영화 장르 순위\")\n",
    "genres_data_df[\"genre\"].value_counts().sort_values(ascending=False)"
   ]
  },
  {
   "cell_type": "code",
   "execution_count": 16,
   "metadata": {},
   "outputs": [
    {
     "data": {
      "text/plain": [
       "<AxesSubplot:>"
      ]
     },
     "execution_count": 16,
     "metadata": {},
     "output_type": "execute_result"
    },
    {
     "data": {
      "image/png": "[encoded data removed]",
      "text/plain": [
       "<Figure size 1440x1080 with 1 Axes>"
      ]
     },
     "metadata": {
      "needs_background": "light"
     },
     "output_type": "display_data"
    }
   ],
   "source": [
    "plt.figure(figsize=(20,15))\n",
    "genres_data_df[\"genre\"].value_counts().plot(kind=\"bar\")"
   ]
  },
  {
   "cell_type": "markdown",
   "metadata": {},
   "source": [
    "## training set + side information"
   ]
  },
  {
   "cell_type": "markdown",
   "metadata": {},
   "source": [
    "### training set + titles"
   ]
  },
  {
   "cell_type": "code",
   "execution_count": 165,
   "metadata": {},
   "outputs": [
    {
     "data": {
      "text/html": [
       "<div>\n",
       "<style scoped>\n",
       "    .dataframe tbody tr th:only-of-type {\n",
       "        vertical-align: middle;\n",
       "    }\n",
       "\n",
       "    .dataframe tbody tr th {\n",
       "        vertical-align: top;\n",
       "    }\n",
       "\n",
       "    .dataframe thead th {\n",
       "        text-align: right;\n",
       "    }\n",
       "</style>\n",
       "<table border=\"1\" class=\"dataframe\">\n",
       "  <thead>\n",
       "    <tr style=\"text-align: right;\">\n",
       "      <th></th>\n",
       "      <th>user</th>\n",
       "      <th>item</th>\n",
       "      <th>time</th>\n",
       "      <th>title</th>\n",
       "    </tr>\n",
       "  </thead>\n",
       "  <tbody>\n",
       "    <tr>\n",
       "      <th>0</th>\n",
       "      <td>11</td>\n",
       "      <td>4643</td>\n",
       "      <td>1230782529</td>\n",
       "      <td>Planet of the Apes (2001)</td>\n",
       "    </tr>\n",
       "    <tr>\n",
       "      <th>1</th>\n",
       "      <td>11</td>\n",
       "      <td>170</td>\n",
       "      <td>1230782534</td>\n",
       "      <td>Hackers (1995)</td>\n",
       "    </tr>\n",
       "    <tr>\n",
       "      <th>2</th>\n",
       "      <td>11</td>\n",
       "      <td>531</td>\n",
       "      <td>1230782539</td>\n",
       "      <td>Secret Garden, The (1993)</td>\n",
       "    </tr>\n",
       "    <tr>\n",
       "      <th>3</th>\n",
       "      <td>11</td>\n",
       "      <td>616</td>\n",
       "      <td>1230782542</td>\n",
       "      <td>Aristocats, The (1970)</td>\n",
       "    </tr>\n",
       "    <tr>\n",
       "      <th>4</th>\n",
       "      <td>11</td>\n",
       "      <td>2140</td>\n",
       "      <td>1230782563</td>\n",
       "      <td>Dark Crystal, The (1982)</td>\n",
       "    </tr>\n",
       "    <tr>\n",
       "      <th>...</th>\n",
       "      <td>...</td>\n",
       "      <td>...</td>\n",
       "      <td>...</td>\n",
       "      <td>...</td>\n",
       "    </tr>\n",
       "    <tr>\n",
       "      <th>5154466</th>\n",
       "      <td>138493</td>\n",
       "      <td>44022</td>\n",
       "      <td>1260209449</td>\n",
       "      <td>Ice Age 2: The Meltdown (2006)</td>\n",
       "    </tr>\n",
       "    <tr>\n",
       "      <th>5154467</th>\n",
       "      <td>138493</td>\n",
       "      <td>4958</td>\n",
       "      <td>1260209482</td>\n",
       "      <td>Behind Enemy Lines (2001)</td>\n",
       "    </tr>\n",
       "    <tr>\n",
       "      <th>5154468</th>\n",
       "      <td>138493</td>\n",
       "      <td>68319</td>\n",
       "      <td>1260209720</td>\n",
       "      <td>X-Men Origins: Wolverine (2009)</td>\n",
       "    </tr>\n",
       "    <tr>\n",
       "      <th>5154469</th>\n",
       "      <td>138493</td>\n",
       "      <td>40819</td>\n",
       "      <td>1260209726</td>\n",
       "      <td>Walk the Line (2005)</td>\n",
       "    </tr>\n",
       "    <tr>\n",
       "      <th>5154470</th>\n",
       "      <td>138493</td>\n",
       "      <td>27311</td>\n",
       "      <td>1260209807</td>\n",
       "      <td>Batman Beyond: Return of the Joker (2000)</td>\n",
       "    </tr>\n",
       "  </tbody>\n",
       "</table>\n",
       "<p>5154471 rows × 4 columns</p>\n",
       "</div>"
      ],
      "text/plain": [
       "           user   item        time                                      title\n",
       "0            11   4643  1230782529                  Planet of the Apes (2001)\n",
       "1            11    170  1230782534                             Hackers (1995)\n",
       "2            11    531  1230782539                  Secret Garden, The (1993)\n",
       "3            11    616  1230782542                     Aristocats, The (1970)\n",
       "4            11   2140  1230782563                   Dark Crystal, The (1982)\n",
       "...         ...    ...         ...                                        ...\n",
       "5154466  138493  44022  1260209449             Ice Age 2: The Meltdown (2006)\n",
       "5154467  138493   4958  1260209482                  Behind Enemy Lines (2001)\n",
       "5154468  138493  68319  1260209720            X-Men Origins: Wolverine (2009)\n",
       "5154469  138493  40819  1260209726                       Walk the Line (2005)\n",
       "5154470  138493  27311  1260209807  Batman Beyond: Return of the Joker (2000)\n",
       "\n",
       "[5154471 rows x 4 columns]"
      ]
     },
     "execution_count": 165,
     "metadata": {},
     "output_type": "execute_result"
    }
   ],
   "source": [
    "training_titles = pd.merge(train_df, titles_data_df, how=\"left\", on=[\"item\"])\n",
    "training_titles"
   ]
  },
  {
   "cell_type": "code",
   "execution_count": 168,
   "metadata": {},
   "outputs": [
    {
     "data": {
      "text/html": [
       "<div>\n",
       "<style scoped>\n",
       "    .dataframe tbody tr th:only-of-type {\n",
       "        vertical-align: middle;\n",
       "    }\n",
       "\n",
       "    .dataframe tbody tr th {\n",
       "        vertical-align: top;\n",
       "    }\n",
       "\n",
       "    .dataframe thead th {\n",
       "        text-align: right;\n",
       "    }\n",
       "</style>\n",
       "<table border=\"1\" class=\"dataframe\">\n",
       "  <thead>\n",
       "    <tr style=\"text-align: right;\">\n",
       "      <th></th>\n",
       "      <th>user</th>\n",
       "      <th>item</th>\n",
       "      <th>time</th>\n",
       "      <th>title</th>\n",
       "    </tr>\n",
       "  </thead>\n",
       "  <tbody>\n",
       "  </tbody>\n",
       "</table>\n",
       "</div>"
      ],
      "text/plain": [
       "Empty DataFrame\n",
       "Columns: [user, item, time, title]\n",
       "Index: []"
      ]
     },
     "execution_count": 168,
     "metadata": {},
     "output_type": "execute_result"
    }
   ],
   "source": [
    "training_titles[training_titles[\"title\"].isnull()] # training set-title merge에는 null값이 없다"
   ]
  },
  {
   "cell_type": "markdown",
   "metadata": {},
   "source": [
    "### training set + director"
   ]
  },
  {
   "cell_type": "code",
   "execution_count": 158,
   "metadata": {},
   "outputs": [
    {
     "data": {
      "text/html": [
       "<div>\n",
       "<style scoped>\n",
       "    .dataframe tbody tr th:only-of-type {\n",
       "        vertical-align: middle;\n",
       "    }\n",
       "\n",
       "    .dataframe tbody tr th {\n",
       "        vertical-align: top;\n",
       "    }\n",
       "\n",
       "    .dataframe thead th {\n",
       "        text-align: right;\n",
       "    }\n",
       "</style>\n",
       "<table border=\"1\" class=\"dataframe\">\n",
       "  <thead>\n",
       "    <tr style=\"text-align: right;\">\n",
       "      <th></th>\n",
       "      <th>user</th>\n",
       "      <th>item</th>\n",
       "      <th>time</th>\n",
       "      <th>director</th>\n",
       "    </tr>\n",
       "  </thead>\n",
       "  <tbody>\n",
       "    <tr>\n",
       "      <th>0</th>\n",
       "      <td>11</td>\n",
       "      <td>4643</td>\n",
       "      <td>1230782529</td>\n",
       "      <td>nm0000318</td>\n",
       "    </tr>\n",
       "    <tr>\n",
       "      <th>1</th>\n",
       "      <td>11</td>\n",
       "      <td>170</td>\n",
       "      <td>1230782534</td>\n",
       "      <td>nm0812200</td>\n",
       "    </tr>\n",
       "    <tr>\n",
       "      <th>2</th>\n",
       "      <td>11</td>\n",
       "      <td>531</td>\n",
       "      <td>1230782539</td>\n",
       "      <td>nm0002140</td>\n",
       "    </tr>\n",
       "    <tr>\n",
       "      <th>3</th>\n",
       "      <td>11</td>\n",
       "      <td>616</td>\n",
       "      <td>1230782542</td>\n",
       "      <td>nm0718627</td>\n",
       "    </tr>\n",
       "    <tr>\n",
       "      <th>4</th>\n",
       "      <td>11</td>\n",
       "      <td>2140</td>\n",
       "      <td>1230782563</td>\n",
       "      <td>nm0000568</td>\n",
       "    </tr>\n",
       "    <tr>\n",
       "      <th>...</th>\n",
       "      <td>...</td>\n",
       "      <td>...</td>\n",
       "      <td>...</td>\n",
       "      <td>...</td>\n",
       "    </tr>\n",
       "    <tr>\n",
       "      <th>5708948</th>\n",
       "      <td>138493</td>\n",
       "      <td>44022</td>\n",
       "      <td>1260209449</td>\n",
       "      <td>nm0757858</td>\n",
       "    </tr>\n",
       "    <tr>\n",
       "      <th>5708949</th>\n",
       "      <td>138493</td>\n",
       "      <td>4958</td>\n",
       "      <td>1260209482</td>\n",
       "      <td>nm0601382</td>\n",
       "    </tr>\n",
       "    <tr>\n",
       "      <th>5708950</th>\n",
       "      <td>138493</td>\n",
       "      <td>68319</td>\n",
       "      <td>1260209720</td>\n",
       "      <td>nm0004303</td>\n",
       "    </tr>\n",
       "    <tr>\n",
       "      <th>5708951</th>\n",
       "      <td>138493</td>\n",
       "      <td>40819</td>\n",
       "      <td>1260209726</td>\n",
       "      <td>nm0003506</td>\n",
       "    </tr>\n",
       "    <tr>\n",
       "      <th>5708952</th>\n",
       "      <td>138493</td>\n",
       "      <td>27311</td>\n",
       "      <td>1260209807</td>\n",
       "      <td>NaN</td>\n",
       "    </tr>\n",
       "  </tbody>\n",
       "</table>\n",
       "<p>5708953 rows × 4 columns</p>\n",
       "</div>"
      ],
      "text/plain": [
       "           user   item        time   director\n",
       "0            11   4643  1230782529  nm0000318\n",
       "1            11    170  1230782534  nm0812200\n",
       "2            11    531  1230782539  nm0002140\n",
       "3            11    616  1230782542  nm0718627\n",
       "4            11   2140  1230782563  nm0000568\n",
       "...         ...    ...         ...        ...\n",
       "5708948  138493  44022  1260209449  nm0757858\n",
       "5708949  138493   4958  1260209482  nm0601382\n",
       "5708950  138493  68319  1260209720  nm0004303\n",
       "5708951  138493  40819  1260209726  nm0003506\n",
       "5708952  138493  27311  1260209807        NaN\n",
       "\n",
       "[5708953 rows x 4 columns]"
      ]
     },
     "execution_count": 158,
     "metadata": {},
     "output_type": "execute_result"
    }
   ],
   "source": [
    "training_director = pd.merge(train_df, directors_data_df, how=\"left\", on=[\"item\"])\n",
    "training_director"
   ]
  },
  {
   "cell_type": "code",
   "execution_count": 222,
   "metadata": {},
   "outputs": [
    {
     "name": "stdout",
     "output_type": "stream",
     "text": [
      "사람들이 가장 많이 시청한 영화의 감독 순위\n"
     ]
    },
    {
     "data": {
      "text/plain": [
       "nm0000229    130434\n",
       "nm0000233     81880\n",
       "nm0634240     65526\n",
       "nm0000709     63374\n",
       "nm0001392     60938\n",
       "              ...  \n",
       "nm0070159       103\n",
       "nm0788454        99\n",
       "nm0001674        97\n",
       "nm0443181        96\n",
       "nm0921631        96\n",
       "Name: director, Length: 1340, dtype: int64"
      ]
     },
     "execution_count": 222,
     "metadata": {},
     "output_type": "execute_result"
    }
   ],
   "source": [
    "print(\"사람들이 가장 많이 시청한 영화의 감독 순위\")\n",
    "training_director[\"director\"].value_counts().sort_values(ascending=False)"
   ]
  },
  {
   "cell_type": "code",
   "execution_count": 161,
   "metadata": {},
   "outputs": [
    {
     "data": {
      "text/html": [
       "<div>\n",
       "<style scoped>\n",
       "    .dataframe tbody tr th:only-of-type {\n",
       "        vertical-align: middle;\n",
       "    }\n",
       "\n",
       "    .dataframe tbody tr th {\n",
       "        vertical-align: top;\n",
       "    }\n",
       "\n",
       "    .dataframe thead th {\n",
       "        text-align: right;\n",
       "    }\n",
       "</style>\n",
       "<table border=\"1\" class=\"dataframe\">\n",
       "  <thead>\n",
       "    <tr style=\"text-align: right;\">\n",
       "      <th></th>\n",
       "      <th>user</th>\n",
       "      <th>item</th>\n",
       "      <th>time</th>\n",
       "      <th>director</th>\n",
       "    </tr>\n",
       "  </thead>\n",
       "  <tbody>\n",
       "    <tr>\n",
       "      <th>11</th>\n",
       "      <td>11</td>\n",
       "      <td>1591</td>\n",
       "      <td>1230782724</td>\n",
       "      <td>NaN</td>\n",
       "    </tr>\n",
       "    <tr>\n",
       "      <th>58</th>\n",
       "      <td>11</td>\n",
       "      <td>2793</td>\n",
       "      <td>1230784958</td>\n",
       "      <td>NaN</td>\n",
       "    </tr>\n",
       "    <tr>\n",
       "      <th>59</th>\n",
       "      <td>11</td>\n",
       "      <td>33085</td>\n",
       "      <td>1230785024</td>\n",
       "      <td>NaN</td>\n",
       "    </tr>\n",
       "    <tr>\n",
       "      <th>72</th>\n",
       "      <td>11</td>\n",
       "      <td>31184</td>\n",
       "      <td>1230785400</td>\n",
       "      <td>NaN</td>\n",
       "    </tr>\n",
       "    <tr>\n",
       "      <th>73</th>\n",
       "      <td>11</td>\n",
       "      <td>34338</td>\n",
       "      <td>1230785494</td>\n",
       "      <td>NaN</td>\n",
       "    </tr>\n",
       "    <tr>\n",
       "      <th>...</th>\n",
       "      <td>...</td>\n",
       "      <td>...</td>\n",
       "      <td>...</td>\n",
       "      <td>...</td>\n",
       "    </tr>\n",
       "    <tr>\n",
       "      <th>5708895</th>\n",
       "      <td>138493</td>\n",
       "      <td>8604</td>\n",
       "      <td>1257785495</td>\n",
       "      <td>NaN</td>\n",
       "    </tr>\n",
       "    <tr>\n",
       "      <th>5708929</th>\n",
       "      <td>138493</td>\n",
       "      <td>50601</td>\n",
       "      <td>1258390414</td>\n",
       "      <td>NaN</td>\n",
       "    </tr>\n",
       "    <tr>\n",
       "      <th>5708930</th>\n",
       "      <td>138493</td>\n",
       "      <td>224</td>\n",
       "      <td>1258390437</td>\n",
       "      <td>NaN</td>\n",
       "    </tr>\n",
       "    <tr>\n",
       "      <th>5708937</th>\n",
       "      <td>138493</td>\n",
       "      <td>61160</td>\n",
       "      <td>1258390537</td>\n",
       "      <td>NaN</td>\n",
       "    </tr>\n",
       "    <tr>\n",
       "      <th>5708952</th>\n",
       "      <td>138493</td>\n",
       "      <td>27311</td>\n",
       "      <td>1260209807</td>\n",
       "      <td>NaN</td>\n",
       "    </tr>\n",
       "  </tbody>\n",
       "</table>\n",
       "<p>301445 rows × 4 columns</p>\n",
       "</div>"
      ],
      "text/plain": [
       "           user   item        time director\n",
       "11           11   1591  1230782724      NaN\n",
       "58           11   2793  1230784958      NaN\n",
       "59           11  33085  1230785024      NaN\n",
       "72           11  31184  1230785400      NaN\n",
       "73           11  34338  1230785494      NaN\n",
       "...         ...    ...         ...      ...\n",
       "5708895  138493   8604  1257785495      NaN\n",
       "5708929  138493  50601  1258390414      NaN\n",
       "5708930  138493    224  1258390437      NaN\n",
       "5708937  138493  61160  1258390537      NaN\n",
       "5708952  138493  27311  1260209807      NaN\n",
       "\n",
       "[301445 rows x 4 columns]"
      ]
     },
     "execution_count": 161,
     "metadata": {},
     "output_type": "execute_result"
    }
   ],
   "source": [
    "training_director[training_director[\"director\"].isnull()]\n",
    "# => training set-derector merge에는 null값이 있다"
   ]
  },
  {
   "cell_type": "code",
   "execution_count": 200,
   "metadata": {},
   "outputs": [
    {
     "name": "stdout",
     "output_type": "stream",
     "text": [
      "감독의 정보가 없는 영화들\n"
     ]
    },
    {
     "data": {
      "text/plain": [
       "array([ 1591,  2793, 33085, ...,   842,  5999, 93422])"
      ]
     },
     "execution_count": 200,
     "metadata": {},
     "output_type": "execute_result"
    }
   ],
   "source": [
    "print(\"감독의 정보가 없는 영화들\")\n",
    "training_director[training_director[\"director\"].isnull()][\"item\"].unique() "
   ]
  },
  {
   "cell_type": "code",
   "execution_count": 201,
   "metadata": {},
   "outputs": [
    {
     "data": {
      "text/plain": [
       "1304"
      ]
     },
     "execution_count": 201,
     "metadata": {},
     "output_type": "execute_result"
    }
   ],
   "source": [
    "training_director[training_director[\"director\"].isnull()][\"item\"].nunique() "
   ]
  },
  {
   "cell_type": "code",
   "execution_count": 188,
   "metadata": {},
   "outputs": [
    {
     "data": {
      "text/plain": [
       "1073     6495\n",
       "8784     5328\n",
       "7254     4919\n",
       "4246     3340\n",
       "1500     2984\n",
       "         ... \n",
       "27619      40\n",
       "1389       39\n",
       "7259       38\n",
       "4241       34\n",
       "51372      27\n",
       "Name: item, Length: 1304, dtype: int64"
      ]
     },
     "execution_count": 188,
     "metadata": {},
     "output_type": "execute_result"
    }
   ],
   "source": [
    "training_director[training_director[\"director\"].isnull()][\"item\"].value_counts().sort_values(ascending=False)"
   ]
  },
  {
   "cell_type": "code",
   "execution_count": 175,
   "metadata": {},
   "outputs": [
    {
     "data": {
      "text/html": [
       "<div>\n",
       "<style scoped>\n",
       "    .dataframe tbody tr th:only-of-type {\n",
       "        vertical-align: middle;\n",
       "    }\n",
       "\n",
       "    .dataframe tbody tr th {\n",
       "        vertical-align: top;\n",
       "    }\n",
       "\n",
       "    .dataframe thead th {\n",
       "        text-align: right;\n",
       "    }\n",
       "</style>\n",
       "<table border=\"1\" class=\"dataframe\">\n",
       "  <thead>\n",
       "    <tr style=\"text-align: right;\">\n",
       "      <th></th>\n",
       "      <th>item</th>\n",
       "      <th>director</th>\n",
       "    </tr>\n",
       "  </thead>\n",
       "  <tbody>\n",
       "  </tbody>\n",
       "</table>\n",
       "</div>"
      ],
      "text/plain": [
       "Empty DataFrame\n",
       "Columns: [item, director]\n",
       "Index: []"
      ]
     },
     "execution_count": 175,
     "metadata": {},
     "output_type": "execute_result"
    }
   ],
   "source": [
    "directors_data_df[directors_data_df[\"item\"]==1073]"
   ]
  },
  {
   "cell_type": "markdown",
   "metadata": {},
   "source": [
    "### training set + genres"
   ]
  },
  {
   "cell_type": "code",
   "execution_count": 181,
   "metadata": {},
   "outputs": [
    {
     "data": {
      "text/html": [
       "<div>\n",
       "<style scoped>\n",
       "    .dataframe tbody tr th:only-of-type {\n",
       "        vertical-align: middle;\n",
       "    }\n",
       "\n",
       "    .dataframe tbody tr th {\n",
       "        vertical-align: top;\n",
       "    }\n",
       "\n",
       "    .dataframe thead th {\n",
       "        text-align: right;\n",
       "    }\n",
       "</style>\n",
       "<table border=\"1\" class=\"dataframe\">\n",
       "  <thead>\n",
       "    <tr style=\"text-align: right;\">\n",
       "      <th></th>\n",
       "      <th>user</th>\n",
       "      <th>item</th>\n",
       "      <th>time</th>\n",
       "      <th>genre</th>\n",
       "    </tr>\n",
       "  </thead>\n",
       "  <tbody>\n",
       "    <tr>\n",
       "      <th>0</th>\n",
       "      <td>11</td>\n",
       "      <td>4643</td>\n",
       "      <td>1230782529</td>\n",
       "      <td>Action</td>\n",
       "    </tr>\n",
       "    <tr>\n",
       "      <th>1</th>\n",
       "      <td>11</td>\n",
       "      <td>4643</td>\n",
       "      <td>1230782529</td>\n",
       "      <td>Adventure</td>\n",
       "    </tr>\n",
       "    <tr>\n",
       "      <th>2</th>\n",
       "      <td>11</td>\n",
       "      <td>4643</td>\n",
       "      <td>1230782529</td>\n",
       "      <td>Drama</td>\n",
       "    </tr>\n",
       "    <tr>\n",
       "      <th>3</th>\n",
       "      <td>11</td>\n",
       "      <td>4643</td>\n",
       "      <td>1230782529</td>\n",
       "      <td>Sci-Fi</td>\n",
       "    </tr>\n",
       "    <tr>\n",
       "      <th>4</th>\n",
       "      <td>11</td>\n",
       "      <td>170</td>\n",
       "      <td>1230782534</td>\n",
       "      <td>Action</td>\n",
       "    </tr>\n",
       "    <tr>\n",
       "      <th>...</th>\n",
       "      <td>...</td>\n",
       "      <td>...</td>\n",
       "      <td>...</td>\n",
       "      <td>...</td>\n",
       "    </tr>\n",
       "    <tr>\n",
       "      <th>14126319</th>\n",
       "      <td>138493</td>\n",
       "      <td>27311</td>\n",
       "      <td>1260209807</td>\n",
       "      <td>Action</td>\n",
       "    </tr>\n",
       "    <tr>\n",
       "      <th>14126320</th>\n",
       "      <td>138493</td>\n",
       "      <td>27311</td>\n",
       "      <td>1260209807</td>\n",
       "      <td>Animation</td>\n",
       "    </tr>\n",
       "    <tr>\n",
       "      <th>14126321</th>\n",
       "      <td>138493</td>\n",
       "      <td>27311</td>\n",
       "      <td>1260209807</td>\n",
       "      <td>Crime</td>\n",
       "    </tr>\n",
       "    <tr>\n",
       "      <th>14126322</th>\n",
       "      <td>138493</td>\n",
       "      <td>27311</td>\n",
       "      <td>1260209807</td>\n",
       "      <td>Sci-Fi</td>\n",
       "    </tr>\n",
       "    <tr>\n",
       "      <th>14126323</th>\n",
       "      <td>138493</td>\n",
       "      <td>27311</td>\n",
       "      <td>1260209807</td>\n",
       "      <td>Thriller</td>\n",
       "    </tr>\n",
       "  </tbody>\n",
       "</table>\n",
       "<p>14126324 rows × 4 columns</p>\n",
       "</div>"
      ],
      "text/plain": [
       "            user   item        time      genre\n",
       "0             11   4643  1230782529     Action\n",
       "1             11   4643  1230782529  Adventure\n",
       "2             11   4643  1230782529      Drama\n",
       "3             11   4643  1230782529     Sci-Fi\n",
       "4             11    170  1230782534     Action\n",
       "...          ...    ...         ...        ...\n",
       "14126319  138493  27311  1260209807     Action\n",
       "14126320  138493  27311  1260209807  Animation\n",
       "14126321  138493  27311  1260209807      Crime\n",
       "14126322  138493  27311  1260209807     Sci-Fi\n",
       "14126323  138493  27311  1260209807   Thriller\n",
       "\n",
       "[14126324 rows x 4 columns]"
      ]
     },
     "execution_count": 181,
     "metadata": {},
     "output_type": "execute_result"
    }
   ],
   "source": [
    "training_genres = pd.merge(train_df, genres_data_df, how=\"left\", on=[\"item\"])\n",
    "training_genres"
   ]
  },
  {
   "cell_type": "code",
   "execution_count": 218,
   "metadata": {},
   "outputs": [
    {
     "name": "stdout",
     "output_type": "stream",
     "text": [
      "사람들이 좋아하는 장르 순위\n"
     ]
    },
    {
     "data": {
      "text/plain": [
       "Drama          2511407\n",
       "Comedy         1719017\n",
       "Action         1504902\n",
       "Thriller       1435678\n",
       "Adventure      1203283\n",
       "Crime          1014480\n",
       "Romance         893843\n",
       "Sci-Fi          857851\n",
       "Fantasy         617807\n",
       "Mystery         493005\n",
       "Children        397929\n",
       "Animation       370761\n",
       "Horror          343730\n",
       "War             307170\n",
       "Musical         199635\n",
       "Western          95374\n",
       "Documentary      90050\n",
       "Film-Noir        70402\n",
       "Name: genre, dtype: int64"
      ]
     },
     "execution_count": 218,
     "metadata": {},
     "output_type": "execute_result"
    }
   ],
   "source": [
    "print(\"사람들이 좋아하는 장르 순위\")\n",
    "training_genres[\"genre\"].value_counts().sort_values(ascending=False)"
   ]
  },
  {
   "cell_type": "code",
   "execution_count": 235,
   "metadata": {},
   "outputs": [
    {
     "data": {
      "text/plain": [
       "<AxesSubplot:>"
      ]
     },
     "execution_count": 235,
     "metadata": {},
     "output_type": "execute_result"
    },
    {
     "data": {
      "image/png": "[encoded data removed]",
      "text/plain": [
       "<Figure size 1440x720 with 1 Axes>"
      ]
     },
     "metadata": {
      "needs_background": "light"
     },
     "output_type": "display_data"
    }
   ],
   "source": [
    "plt.figure(figsize=(20, 10))\n",
    "training_genres[\"genre\"].value_counts().plot(kind=\"bar\")"
   ]
  },
  {
   "cell_type": "code",
   "execution_count": 182,
   "metadata": {},
   "outputs": [
    {
     "data": {
      "text/html": [
       "<div>\n",
       "<style scoped>\n",
       "    .dataframe tbody tr th:only-of-type {\n",
       "        vertical-align: middle;\n",
       "    }\n",
       "\n",
       "    .dataframe tbody tr th {\n",
       "        vertical-align: top;\n",
       "    }\n",
       "\n",
       "    .dataframe thead th {\n",
       "        text-align: right;\n",
       "    }\n",
       "</style>\n",
       "<table border=\"1\" class=\"dataframe\">\n",
       "  <thead>\n",
       "    <tr style=\"text-align: right;\">\n",
       "      <th></th>\n",
       "      <th>user</th>\n",
       "      <th>item</th>\n",
       "      <th>time</th>\n",
       "      <th>genre</th>\n",
       "    </tr>\n",
       "  </thead>\n",
       "  <tbody>\n",
       "  </tbody>\n",
       "</table>\n",
       "</div>"
      ],
      "text/plain": [
       "Empty DataFrame\n",
       "Columns: [user, item, time, genre]\n",
       "Index: []"
      ]
     },
     "execution_count": 182,
     "metadata": {},
     "output_type": "execute_result"
    }
   ],
   "source": [
    "training_genres[training_genres[\"genre\"].isnull()]\n",
    "# => training set-genres에는 null값이 없다"
   ]
  },
  {
   "cell_type": "markdown",
   "metadata": {},
   "source": [
    "### training set + writers"
   ]
  },
  {
   "cell_type": "code",
   "execution_count": 184,
   "metadata": {},
   "outputs": [
    {
     "data": {
      "text/html": [
       "<div>\n",
       "<style scoped>\n",
       "    .dataframe tbody tr th:only-of-type {\n",
       "        vertical-align: middle;\n",
       "    }\n",
       "\n",
       "    .dataframe tbody tr th {\n",
       "        vertical-align: top;\n",
       "    }\n",
       "\n",
       "    .dataframe thead th {\n",
       "        text-align: right;\n",
       "    }\n",
       "</style>\n",
       "<table border=\"1\" class=\"dataframe\">\n",
       "  <thead>\n",
       "    <tr style=\"text-align: right;\">\n",
       "      <th></th>\n",
       "      <th>user</th>\n",
       "      <th>item</th>\n",
       "      <th>time</th>\n",
       "      <th>writer</th>\n",
       "    </tr>\n",
       "  </thead>\n",
       "  <tbody>\n",
       "    <tr>\n",
       "      <th>0</th>\n",
       "      <td>11</td>\n",
       "      <td>4643</td>\n",
       "      <td>1230782529</td>\n",
       "      <td>nm0099541</td>\n",
       "    </tr>\n",
       "    <tr>\n",
       "      <th>1</th>\n",
       "      <td>11</td>\n",
       "      <td>4643</td>\n",
       "      <td>1230782529</td>\n",
       "      <td>nm0115310</td>\n",
       "    </tr>\n",
       "    <tr>\n",
       "      <th>2</th>\n",
       "      <td>11</td>\n",
       "      <td>4643</td>\n",
       "      <td>1230782529</td>\n",
       "      <td>nm0465199</td>\n",
       "    </tr>\n",
       "    <tr>\n",
       "      <th>3</th>\n",
       "      <td>11</td>\n",
       "      <td>4643</td>\n",
       "      <td>1230782529</td>\n",
       "      <td>nm0742797</td>\n",
       "    </tr>\n",
       "    <tr>\n",
       "      <th>4</th>\n",
       "      <td>11</td>\n",
       "      <td>170</td>\n",
       "      <td>1230782534</td>\n",
       "      <td>NaN</td>\n",
       "    </tr>\n",
       "    <tr>\n",
       "      <th>...</th>\n",
       "      <td>...</td>\n",
       "      <td>...</td>\n",
       "      <td>...</td>\n",
       "      <td>...</td>\n",
       "    </tr>\n",
       "    <tr>\n",
       "      <th>11591602</th>\n",
       "      <td>138493</td>\n",
       "      <td>68319</td>\n",
       "      <td>1260209720</td>\n",
       "      <td>nm1125275</td>\n",
       "    </tr>\n",
       "    <tr>\n",
       "      <th>11591603</th>\n",
       "      <td>138493</td>\n",
       "      <td>40819</td>\n",
       "      <td>1260209726</td>\n",
       "      <td>nm0003506</td>\n",
       "    </tr>\n",
       "    <tr>\n",
       "      <th>11591604</th>\n",
       "      <td>138493</td>\n",
       "      <td>40819</td>\n",
       "      <td>1260209726</td>\n",
       "      <td>nm0219456</td>\n",
       "    </tr>\n",
       "    <tr>\n",
       "      <th>11591605</th>\n",
       "      <td>138493</td>\n",
       "      <td>27311</td>\n",
       "      <td>1260209807</td>\n",
       "      <td>nm0004170</td>\n",
       "    </tr>\n",
       "    <tr>\n",
       "      <th>11591606</th>\n",
       "      <td>138493</td>\n",
       "      <td>27311</td>\n",
       "      <td>1260209807</td>\n",
       "      <td>nm0227704</td>\n",
       "    </tr>\n",
       "  </tbody>\n",
       "</table>\n",
       "<p>11591607 rows × 4 columns</p>\n",
       "</div>"
      ],
      "text/plain": [
       "            user   item        time     writer\n",
       "0             11   4643  1230782529  nm0099541\n",
       "1             11   4643  1230782529  nm0115310\n",
       "2             11   4643  1230782529  nm0465199\n",
       "3             11   4643  1230782529  nm0742797\n",
       "4             11    170  1230782534        NaN\n",
       "...          ...    ...         ...        ...\n",
       "11591602  138493  68319  1260209720  nm1125275\n",
       "11591603  138493  40819  1260209726  nm0003506\n",
       "11591604  138493  40819  1260209726  nm0219456\n",
       "11591605  138493  27311  1260209807  nm0004170\n",
       "11591606  138493  27311  1260209807  nm0227704\n",
       "\n",
       "[11591607 rows x 4 columns]"
      ]
     },
     "execution_count": 184,
     "metadata": {},
     "output_type": "execute_result"
    }
   ],
   "source": [
    "training_writers = pd.merge(train_df, writers_data_df, how=\"left\", on=[\"item\"])\n",
    "training_writers"
   ]
  },
  {
   "cell_type": "code",
   "execution_count": 221,
   "metadata": {},
   "outputs": [
    {
     "name": "stdout",
     "output_type": "stream",
     "text": [
      "사람들이 가장 많이 시청한 영화의 작가 순위\n"
     ]
    },
    {
     "data": {
      "text/plain": [
       "nm0000184    96994\n",
       "nm0000233    80361\n",
       "nm0634240    64298\n",
       "nm0001392    60938\n",
       "nm0909638    60245\n",
       "             ...  \n",
       "nm0788454       99\n",
       "nm0921631       96\n",
       "nm0540532       94\n",
       "nm0639434       94\n",
       "nm0818746       85\n",
       "Name: writer, Length: 2989, dtype: int64"
      ]
     },
     "execution_count": 221,
     "metadata": {},
     "output_type": "execute_result"
    }
   ],
   "source": [
    "print(\"사람들이 가장 많이 시청한 영화의 작가 순위\")\n",
    "training_writers[\"writer\"].value_counts().sort_values(ascending=False)"
   ]
  },
  {
   "cell_type": "code",
   "execution_count": 196,
   "metadata": {},
   "outputs": [
    {
     "data": {
      "text/html": [
       "<div>\n",
       "<style scoped>\n",
       "    .dataframe tbody tr th:only-of-type {\n",
       "        vertical-align: middle;\n",
       "    }\n",
       "\n",
       "    .dataframe tbody tr th {\n",
       "        vertical-align: top;\n",
       "    }\n",
       "\n",
       "    .dataframe thead th {\n",
       "        text-align: right;\n",
       "    }\n",
       "</style>\n",
       "<table border=\"1\" class=\"dataframe\">\n",
       "  <thead>\n",
       "    <tr style=\"text-align: right;\">\n",
       "      <th></th>\n",
       "      <th>user</th>\n",
       "      <th>item</th>\n",
       "      <th>time</th>\n",
       "      <th>writer</th>\n",
       "    </tr>\n",
       "  </thead>\n",
       "  <tbody>\n",
       "    <tr>\n",
       "      <th>4</th>\n",
       "      <td>11</td>\n",
       "      <td>170</td>\n",
       "      <td>1230782534</td>\n",
       "      <td>NaN</td>\n",
       "    </tr>\n",
       "    <tr>\n",
       "      <th>58</th>\n",
       "      <td>11</td>\n",
       "      <td>5151</td>\n",
       "      <td>1230783478</td>\n",
       "      <td>NaN</td>\n",
       "    </tr>\n",
       "    <tr>\n",
       "      <th>61</th>\n",
       "      <td>11</td>\n",
       "      <td>33585</td>\n",
       "      <td>1230783564</td>\n",
       "      <td>NaN</td>\n",
       "    </tr>\n",
       "    <tr>\n",
       "      <th>120</th>\n",
       "      <td>11</td>\n",
       "      <td>1225</td>\n",
       "      <td>1230784460</td>\n",
       "      <td>NaN</td>\n",
       "    </tr>\n",
       "    <tr>\n",
       "      <th>122</th>\n",
       "      <td>11</td>\n",
       "      <td>59418</td>\n",
       "      <td>1230784666</td>\n",
       "      <td>NaN</td>\n",
       "    </tr>\n",
       "    <tr>\n",
       "      <th>...</th>\n",
       "      <td>...</td>\n",
       "      <td>...</td>\n",
       "      <td>...</td>\n",
       "      <td>...</td>\n",
       "    </tr>\n",
       "    <tr>\n",
       "      <th>11591191</th>\n",
       "      <td>138493</td>\n",
       "      <td>8905</td>\n",
       "      <td>1255856919</td>\n",
       "      <td>NaN</td>\n",
       "    </tr>\n",
       "    <tr>\n",
       "      <th>11591192</th>\n",
       "      <td>138493</td>\n",
       "      <td>52579</td>\n",
       "      <td>1255856957</td>\n",
       "      <td>NaN</td>\n",
       "    </tr>\n",
       "    <tr>\n",
       "      <th>11591475</th>\n",
       "      <td>138493</td>\n",
       "      <td>1429</td>\n",
       "      <td>1256854805</td>\n",
       "      <td>NaN</td>\n",
       "    </tr>\n",
       "    <tr>\n",
       "      <th>11591494</th>\n",
       "      <td>138493</td>\n",
       "      <td>1298</td>\n",
       "      <td>1258134713</td>\n",
       "      <td>NaN</td>\n",
       "    </tr>\n",
       "    <tr>\n",
       "      <th>11591499</th>\n",
       "      <td>138493</td>\n",
       "      <td>3020</td>\n",
       "      <td>1258134998</td>\n",
       "      <td>NaN</td>\n",
       "    </tr>\n",
       "  </tbody>\n",
       "</table>\n",
       "<p>312692 rows × 4 columns</p>\n",
       "</div>"
      ],
      "text/plain": [
       "            user   item        time writer\n",
       "4             11    170  1230782534    NaN\n",
       "58            11   5151  1230783478    NaN\n",
       "61            11  33585  1230783564    NaN\n",
       "120           11   1225  1230784460    NaN\n",
       "122           11  59418  1230784666    NaN\n",
       "...          ...    ...         ...    ...\n",
       "11591191  138493   8905  1255856919    NaN\n",
       "11591192  138493  52579  1255856957    NaN\n",
       "11591475  138493   1429  1256854805    NaN\n",
       "11591494  138493   1298  1258134713    NaN\n",
       "11591499  138493   3020  1258134998    NaN\n",
       "\n",
       "[312692 rows x 4 columns]"
      ]
     },
     "execution_count": 196,
     "metadata": {},
     "output_type": "execute_result"
    }
   ],
   "source": [
    "training_writers[training_writers[\"writer\"].isnull()]\n",
    "# => training set-writers에는 null값이 있다"
   ]
  },
  {
   "cell_type": "code",
   "execution_count": 187,
   "metadata": {},
   "outputs": [
    {
     "name": "stdout",
     "output_type": "stream",
     "text": [
      "작가의 정보가 없는 영화들\n"
     ]
    },
    {
     "data": {
      "text/plain": [
       "array([  170,  5151, 33585, ..., 90524, 75395,  6864])"
      ]
     },
     "execution_count": 187,
     "metadata": {},
     "output_type": "execute_result"
    }
   ],
   "source": [
    "print(\"작가의 정보가 없는 영화들\")\n",
    "training_writers[training_writers[\"writer\"].isnull()][\"item\"].unique() "
   ]
  },
  {
   "cell_type": "code",
   "execution_count": 202,
   "metadata": {},
   "outputs": [
    {
     "data": {
      "text/plain": [
       "1159"
      ]
     },
     "execution_count": 202,
     "metadata": {},
     "output_type": "execute_result"
    }
   ],
   "source": [
    "training_writers[training_writers[\"writer\"].isnull()][\"item\"].nunique() "
   ]
  },
  {
   "cell_type": "code",
   "execution_count": 189,
   "metadata": {},
   "outputs": [
    {
     "data": {
      "text/plain": [
       "590      6431\n",
       "1225     5722\n",
       "8784     5328\n",
       "47610    4591\n",
       "44665    4318\n",
       "         ... \n",
       "65193      41\n",
       "414        40\n",
       "7259       38\n",
       "4241       34\n",
       "51372      27\n",
       "Name: item, Length: 1159, dtype: int64"
      ]
     },
     "execution_count": 189,
     "metadata": {},
     "output_type": "execute_result"
    }
   ],
   "source": [
    "training_writers[training_writers[\"writer\"].isnull()][\"item\"].value_counts().sort_values(ascending=False)"
   ]
  },
  {
   "cell_type": "code",
   "execution_count": 190,
   "metadata": {},
   "outputs": [
    {
     "data": {
      "text/html": [
       "<div>\n",
       "<style scoped>\n",
       "    .dataframe tbody tr th:only-of-type {\n",
       "        vertical-align: middle;\n",
       "    }\n",
       "\n",
       "    .dataframe tbody tr th {\n",
       "        vertical-align: top;\n",
       "    }\n",
       "\n",
       "    .dataframe thead th {\n",
       "        text-align: right;\n",
       "    }\n",
       "</style>\n",
       "<table border=\"1\" class=\"dataframe\">\n",
       "  <thead>\n",
       "    <tr style=\"text-align: right;\">\n",
       "      <th></th>\n",
       "      <th>item</th>\n",
       "      <th>writer</th>\n",
       "    </tr>\n",
       "  </thead>\n",
       "  <tbody>\n",
       "  </tbody>\n",
       "</table>\n",
       "</div>"
      ],
      "text/plain": [
       "Empty DataFrame\n",
       "Columns: [item, writer]\n",
       "Index: []"
      ]
     },
     "execution_count": 190,
     "metadata": {},
     "output_type": "execute_result"
    }
   ],
   "source": [
    "writers_data_df[writers_data_df[\"item\"]==590]"
   ]
  },
  {
   "cell_type": "markdown",
   "metadata": {},
   "source": [
    "### training set + years"
   ]
  },
  {
   "cell_type": "code",
   "execution_count": 250,
   "metadata": {},
   "outputs": [
    {
     "data": {
      "text/html": [
       "<div>\n",
       "<style scoped>\n",
       "    .dataframe tbody tr th:only-of-type {\n",
       "        vertical-align: middle;\n",
       "    }\n",
       "\n",
       "    .dataframe tbody tr th {\n",
       "        vertical-align: top;\n",
       "    }\n",
       "\n",
       "    .dataframe thead th {\n",
       "        text-align: right;\n",
       "    }\n",
       "</style>\n",
       "<table border=\"1\" class=\"dataframe\">\n",
       "  <thead>\n",
       "    <tr style=\"text-align: right;\">\n",
       "      <th></th>\n",
       "      <th>user</th>\n",
       "      <th>item</th>\n",
       "      <th>time</th>\n",
       "      <th>year</th>\n",
       "    </tr>\n",
       "  </thead>\n",
       "  <tbody>\n",
       "    <tr>\n",
       "      <th>0</th>\n",
       "      <td>11</td>\n",
       "      <td>4643</td>\n",
       "      <td>1230782529</td>\n",
       "      <td>2001.0</td>\n",
       "    </tr>\n",
       "    <tr>\n",
       "      <th>1</th>\n",
       "      <td>11</td>\n",
       "      <td>170</td>\n",
       "      <td>1230782534</td>\n",
       "      <td>1995.0</td>\n",
       "    </tr>\n",
       "    <tr>\n",
       "      <th>2</th>\n",
       "      <td>11</td>\n",
       "      <td>531</td>\n",
       "      <td>1230782539</td>\n",
       "      <td>1993.0</td>\n",
       "    </tr>\n",
       "    <tr>\n",
       "      <th>3</th>\n",
       "      <td>11</td>\n",
       "      <td>616</td>\n",
       "      <td>1230782542</td>\n",
       "      <td>1970.0</td>\n",
       "    </tr>\n",
       "    <tr>\n",
       "      <th>4</th>\n",
       "      <td>11</td>\n",
       "      <td>2140</td>\n",
       "      <td>1230782563</td>\n",
       "      <td>1982.0</td>\n",
       "    </tr>\n",
       "    <tr>\n",
       "      <th>...</th>\n",
       "      <td>...</td>\n",
       "      <td>...</td>\n",
       "      <td>...</td>\n",
       "      <td>...</td>\n",
       "    </tr>\n",
       "    <tr>\n",
       "      <th>5154466</th>\n",
       "      <td>138493</td>\n",
       "      <td>44022</td>\n",
       "      <td>1260209449</td>\n",
       "      <td>2006.0</td>\n",
       "    </tr>\n",
       "    <tr>\n",
       "      <th>5154467</th>\n",
       "      <td>138493</td>\n",
       "      <td>4958</td>\n",
       "      <td>1260209482</td>\n",
       "      <td>2001.0</td>\n",
       "    </tr>\n",
       "    <tr>\n",
       "      <th>5154468</th>\n",
       "      <td>138493</td>\n",
       "      <td>68319</td>\n",
       "      <td>1260209720</td>\n",
       "      <td>2009.0</td>\n",
       "    </tr>\n",
       "    <tr>\n",
       "      <th>5154469</th>\n",
       "      <td>138493</td>\n",
       "      <td>40819</td>\n",
       "      <td>1260209726</td>\n",
       "      <td>2005.0</td>\n",
       "    </tr>\n",
       "    <tr>\n",
       "      <th>5154470</th>\n",
       "      <td>138493</td>\n",
       "      <td>27311</td>\n",
       "      <td>1260209807</td>\n",
       "      <td>2000.0</td>\n",
       "    </tr>\n",
       "  </tbody>\n",
       "</table>\n",
       "<p>5154471 rows × 4 columns</p>\n",
       "</div>"
      ],
      "text/plain": [
       "           user   item        time    year\n",
       "0            11   4643  1230782529  2001.0\n",
       "1            11    170  1230782534  1995.0\n",
       "2            11    531  1230782539  1993.0\n",
       "3            11    616  1230782542  1970.0\n",
       "4            11   2140  1230782563  1982.0\n",
       "...         ...    ...         ...     ...\n",
       "5154466  138493  44022  1260209449  2006.0\n",
       "5154467  138493   4958  1260209482  2001.0\n",
       "5154468  138493  68319  1260209720  2009.0\n",
       "5154469  138493  40819  1260209726  2005.0\n",
       "5154470  138493  27311  1260209807  2000.0\n",
       "\n",
       "[5154471 rows x 4 columns]"
      ]
     },
     "execution_count": 250,
     "metadata": {},
     "output_type": "execute_result"
    }
   ],
   "source": [
    "training_years = pd.merge(train_df, year_data_df, how=\"left\", on=[\"item\"])\n",
    "training_years"
   ]
  },
  {
   "cell_type": "code",
   "execution_count": 251,
   "metadata": {},
   "outputs": [
    {
     "name": "stdout",
     "output_type": "stream",
     "text": [
      "사람들이 가장 많이 시청한 영화의 년도\n"
     ]
    },
    {
     "data": {
      "text/plain": [
       "2004.0    272242\n",
       "1999.0    231320\n",
       "2001.0    224178\n",
       "2002.0    220123\n",
       "2006.0    215314\n",
       "           ...  \n",
       "1928.0      1208\n",
       "1929.0      1063\n",
       "1926.0       910\n",
       "1924.0       781\n",
       "1923.0       352\n",
       "Name: year, Length: 93, dtype: int64"
      ]
     },
     "execution_count": 251,
     "metadata": {},
     "output_type": "execute_result"
    }
   ],
   "source": [
    "print(\"사람들이 가장 많이 시청한 영화의 년도\")\n",
    "training_years[\"year\"].value_counts().sort_values(ascending=False)"
   ]
  },
  {
   "cell_type": "code",
   "execution_count": 259,
   "metadata": {},
   "outputs": [
    {
     "data": {
      "text/plain": [
       "<AxesSubplot:xlabel='year', ylabel='Density'>"
      ]
     },
     "execution_count": 259,
     "metadata": {},
     "output_type": "execute_result"
    },
    {
     "data": {
      "image/png": "[encoded data removed]",
      "text/plain": [
       "<Figure size 1440x720 with 1 Axes>"
      ]
     },
     "metadata": {
      "needs_background": "light"
     },
     "output_type": "display_data"
    }
   ],
   "source": [
    "plt.figure(figsize=(20, 10))\n",
    "training_years_tmp = training_years[\"year\"].value_counts().to_frame().reset_index()\n",
    "training_years_tmp.columns = [\"year\", \"count\"]\n",
    "sns.kdeplot(x=\"year\", data=training_years_tmp, fill=True)"
   ]
  },
  {
   "cell_type": "code",
   "execution_count": 194,
   "metadata": {},
   "outputs": [
    {
     "data": {
      "text/html": [
       "<div>\n",
       "<style scoped>\n",
       "    .dataframe tbody tr th:only-of-type {\n",
       "        vertical-align: middle;\n",
       "    }\n",
       "\n",
       "    .dataframe tbody tr th {\n",
       "        vertical-align: top;\n",
       "    }\n",
       "\n",
       "    .dataframe thead th {\n",
       "        text-align: right;\n",
       "    }\n",
       "</style>\n",
       "<table border=\"1\" class=\"dataframe\">\n",
       "  <thead>\n",
       "    <tr style=\"text-align: right;\">\n",
       "      <th></th>\n",
       "      <th>user</th>\n",
       "      <th>item</th>\n",
       "      <th>time</th>\n",
       "      <th>year</th>\n",
       "    </tr>\n",
       "  </thead>\n",
       "  <tbody>\n",
       "    <tr>\n",
       "      <th>3486</th>\n",
       "      <td>132</td>\n",
       "      <td>6987</td>\n",
       "      <td>1114010962</td>\n",
       "      <td>NaN</td>\n",
       "    </tr>\n",
       "    <tr>\n",
       "      <th>13645</th>\n",
       "      <td>413</td>\n",
       "      <td>6987</td>\n",
       "      <td>1128709337</td>\n",
       "      <td>NaN</td>\n",
       "    </tr>\n",
       "    <tr>\n",
       "      <th>14766</th>\n",
       "      <td>425</td>\n",
       "      <td>3310</td>\n",
       "      <td>1418071653</td>\n",
       "      <td>NaN</td>\n",
       "    </tr>\n",
       "    <tr>\n",
       "      <th>15678</th>\n",
       "      <td>448</td>\n",
       "      <td>6987</td>\n",
       "      <td>1128537722</td>\n",
       "      <td>NaN</td>\n",
       "    </tr>\n",
       "    <tr>\n",
       "      <th>19598</th>\n",
       "      <td>563</td>\n",
       "      <td>6987</td>\n",
       "      <td>1171575158</td>\n",
       "      <td>NaN</td>\n",
       "    </tr>\n",
       "    <tr>\n",
       "      <th>...</th>\n",
       "      <td>...</td>\n",
       "      <td>...</td>\n",
       "      <td>...</td>\n",
       "      <td>...</td>\n",
       "    </tr>\n",
       "    <tr>\n",
       "      <th>5147569</th>\n",
       "      <td>138325</td>\n",
       "      <td>8511</td>\n",
       "      <td>1268938902</td>\n",
       "      <td>NaN</td>\n",
       "    </tr>\n",
       "    <tr>\n",
       "      <th>5147629</th>\n",
       "      <td>138325</td>\n",
       "      <td>7065</td>\n",
       "      <td>1279124995</td>\n",
       "      <td>NaN</td>\n",
       "    </tr>\n",
       "    <tr>\n",
       "      <th>5150507</th>\n",
       "      <td>138406</td>\n",
       "      <td>3310</td>\n",
       "      <td>1139933369</td>\n",
       "      <td>NaN</td>\n",
       "    </tr>\n",
       "    <tr>\n",
       "      <th>5150755</th>\n",
       "      <td>138406</td>\n",
       "      <td>32898</td>\n",
       "      <td>1372717892</td>\n",
       "      <td>NaN</td>\n",
       "    </tr>\n",
       "    <tr>\n",
       "      <th>5153857</th>\n",
       "      <td>138475</td>\n",
       "      <td>6987</td>\n",
       "      <td>1126812019</td>\n",
       "      <td>NaN</td>\n",
       "    </tr>\n",
       "  </tbody>\n",
       "</table>\n",
       "<p>1832 rows × 4 columns</p>\n",
       "</div>"
      ],
      "text/plain": [
       "           user   item        time  year\n",
       "3486        132   6987  1114010962   NaN\n",
       "13645       413   6987  1128709337   NaN\n",
       "14766       425   3310  1418071653   NaN\n",
       "15678       448   6987  1128537722   NaN\n",
       "19598       563   6987  1171575158   NaN\n",
       "...         ...    ...         ...   ...\n",
       "5147569  138325   8511  1268938902   NaN\n",
       "5147629  138325   7065  1279124995   NaN\n",
       "5150507  138406   3310  1139933369   NaN\n",
       "5150755  138406  32898  1372717892   NaN\n",
       "5153857  138475   6987  1126812019   NaN\n",
       "\n",
       "[1832 rows x 4 columns]"
      ]
     },
     "execution_count": 194,
     "metadata": {},
     "output_type": "execute_result"
    }
   ],
   "source": [
    "training_years[training_years[\"year\"].isnull()]\n",
    "# => training set-year에는 null값이 있다"
   ]
  },
  {
   "cell_type": "code",
   "execution_count": 198,
   "metadata": {},
   "outputs": [
    {
     "name": "stdout",
     "output_type": "stream",
     "text": [
      "년도의 정보가 없는 영화들\n"
     ]
    },
    {
     "data": {
      "text/plain": [
       "array([  6987,   3310,   7243,   8511,  32898,   7065, 119145,   6988])"
      ]
     },
     "execution_count": 198,
     "metadata": {},
     "output_type": "execute_result"
    }
   ],
   "source": [
    "print(\"년도의 정보가 없는 영화들\")\n",
    "training_years[training_years[\"year\"].isnull()][\"item\"].unique() "
   ]
  },
  {
   "cell_type": "code",
   "execution_count": 203,
   "metadata": {},
   "outputs": [
    {
     "data": {
      "text/plain": [
       "8"
      ]
     },
     "execution_count": 203,
     "metadata": {},
     "output_type": "execute_result"
    }
   ],
   "source": [
    "training_years[training_years[\"year\"].isnull()][\"item\"].nunique() \n",
    "# => 이 정도 비어진 정보면 채워넣을 수 있다."
   ]
  },
  {
   "cell_type": "code",
   "execution_count": 204,
   "metadata": {},
   "outputs": [
    {
     "data": {
      "text/plain": [
       "6987      763\n",
       "3310      480\n",
       "32898     183\n",
       "7065      109\n",
       "7243       78\n",
       "119145     78\n",
       "8511       71\n",
       "6988       70\n",
       "Name: item, dtype: int64"
      ]
     },
     "execution_count": 204,
     "metadata": {},
     "output_type": "execute_result"
    }
   ],
   "source": [
    "training_years[training_years[\"year\"].isnull()][\"item\"].value_counts().sort_values(ascending=False)"
   ]
  },
  {
   "cell_type": "code",
   "execution_count": 205,
   "metadata": {},
   "outputs": [
    {
     "data": {
      "text/html": [
       "<div>\n",
       "<style scoped>\n",
       "    .dataframe tbody tr th:only-of-type {\n",
       "        vertical-align: middle;\n",
       "    }\n",
       "\n",
       "    .dataframe tbody tr th {\n",
       "        vertical-align: top;\n",
       "    }\n",
       "\n",
       "    .dataframe thead th {\n",
       "        text-align: right;\n",
       "    }\n",
       "</style>\n",
       "<table border=\"1\" class=\"dataframe\">\n",
       "  <thead>\n",
       "    <tr style=\"text-align: right;\">\n",
       "      <th></th>\n",
       "      <th>user</th>\n",
       "      <th>item</th>\n",
       "      <th>time</th>\n",
       "      <th>title</th>\n",
       "      <th>genre</th>\n",
       "      <th>year</th>\n",
       "      <th>director</th>\n",
       "      <th>writer</th>\n",
       "    </tr>\n",
       "  </thead>\n",
       "  <tbody>\n",
       "    <tr>\n",
       "      <th>0</th>\n",
       "      <td>11</td>\n",
       "      <td>4643</td>\n",
       "      <td>1230782529</td>\n",
       "      <td>Planet of the Apes (2001)</td>\n",
       "      <td>Action</td>\n",
       "      <td>2001.0</td>\n",
       "      <td>nm0000318</td>\n",
       "      <td>nm0099541</td>\n",
       "    </tr>\n",
       "    <tr>\n",
       "      <th>1</th>\n",
       "      <td>11</td>\n",
       "      <td>4643</td>\n",
       "      <td>1230782529</td>\n",
       "      <td>Planet of the Apes (2001)</td>\n",
       "      <td>Action</td>\n",
       "      <td>2001.0</td>\n",
       "      <td>nm0000318</td>\n",
       "      <td>nm0115310</td>\n",
       "    </tr>\n",
       "    <tr>\n",
       "      <th>2</th>\n",
       "      <td>11</td>\n",
       "      <td>4643</td>\n",
       "      <td>1230782529</td>\n",
       "      <td>Planet of the Apes (2001)</td>\n",
       "      <td>Action</td>\n",
       "      <td>2001.0</td>\n",
       "      <td>nm0000318</td>\n",
       "      <td>nm0465199</td>\n",
       "    </tr>\n",
       "    <tr>\n",
       "      <th>3</th>\n",
       "      <td>11</td>\n",
       "      <td>4643</td>\n",
       "      <td>1230782529</td>\n",
       "      <td>Planet of the Apes (2001)</td>\n",
       "      <td>Action</td>\n",
       "      <td>2001.0</td>\n",
       "      <td>nm0000318</td>\n",
       "      <td>nm0742797</td>\n",
       "    </tr>\n",
       "    <tr>\n",
       "      <th>4</th>\n",
       "      <td>11</td>\n",
       "      <td>4643</td>\n",
       "      <td>1230782529</td>\n",
       "      <td>Planet of the Apes (2001)</td>\n",
       "      <td>Adventure</td>\n",
       "      <td>2001.0</td>\n",
       "      <td>nm0000318</td>\n",
       "      <td>nm0099541</td>\n",
       "    </tr>\n",
       "    <tr>\n",
       "      <th>...</th>\n",
       "      <td>...</td>\n",
       "      <td>...</td>\n",
       "      <td>...</td>\n",
       "      <td>...</td>\n",
       "      <td>...</td>\n",
       "      <td>...</td>\n",
       "      <td>...</td>\n",
       "      <td>...</td>\n",
       "    </tr>\n",
       "    <tr>\n",
       "      <th>48264326</th>\n",
       "      <td>138493</td>\n",
       "      <td>27311</td>\n",
       "      <td>1260209807</td>\n",
       "      <td>Batman Beyond: Return of the Joker (2000)</td>\n",
       "      <td>Crime</td>\n",
       "      <td>2000.0</td>\n",
       "      <td>NaN</td>\n",
       "      <td>nm0227704</td>\n",
       "    </tr>\n",
       "    <tr>\n",
       "      <th>48264327</th>\n",
       "      <td>138493</td>\n",
       "      <td>27311</td>\n",
       "      <td>1260209807</td>\n",
       "      <td>Batman Beyond: Return of the Joker (2000)</td>\n",
       "      <td>Sci-Fi</td>\n",
       "      <td>2000.0</td>\n",
       "      <td>NaN</td>\n",
       "      <td>nm0004170</td>\n",
       "    </tr>\n",
       "    <tr>\n",
       "      <th>48264328</th>\n",
       "      <td>138493</td>\n",
       "      <td>27311</td>\n",
       "      <td>1260209807</td>\n",
       "      <td>Batman Beyond: Return of the Joker (2000)</td>\n",
       "      <td>Sci-Fi</td>\n",
       "      <td>2000.0</td>\n",
       "      <td>NaN</td>\n",
       "      <td>nm0227704</td>\n",
       "    </tr>\n",
       "    <tr>\n",
       "      <th>48264329</th>\n",
       "      <td>138493</td>\n",
       "      <td>27311</td>\n",
       "      <td>1260209807</td>\n",
       "      <td>Batman Beyond: Return of the Joker (2000)</td>\n",
       "      <td>Thriller</td>\n",
       "      <td>2000.0</td>\n",
       "      <td>NaN</td>\n",
       "      <td>nm0004170</td>\n",
       "    </tr>\n",
       "    <tr>\n",
       "      <th>48264330</th>\n",
       "      <td>138493</td>\n",
       "      <td>27311</td>\n",
       "      <td>1260209807</td>\n",
       "      <td>Batman Beyond: Return of the Joker (2000)</td>\n",
       "      <td>Thriller</td>\n",
       "      <td>2000.0</td>\n",
       "      <td>NaN</td>\n",
       "      <td>nm0227704</td>\n",
       "    </tr>\n",
       "  </tbody>\n",
       "</table>\n",
       "<p>48264331 rows × 8 columns</p>\n",
       "</div>"
      ],
      "text/plain": [
       "            user   item        time  \\\n",
       "0             11   4643  1230782529   \n",
       "1             11   4643  1230782529   \n",
       "2             11   4643  1230782529   \n",
       "3             11   4643  1230782529   \n",
       "4             11   4643  1230782529   \n",
       "...          ...    ...         ...   \n",
       "48264326  138493  27311  1260209807   \n",
       "48264327  138493  27311  1260209807   \n",
       "48264328  138493  27311  1260209807   \n",
       "48264329  138493  27311  1260209807   \n",
       "48264330  138493  27311  1260209807   \n",
       "\n",
       "                                              title      genre    year  \\\n",
       "0                         Planet of the Apes (2001)     Action  2001.0   \n",
       "1                         Planet of the Apes (2001)     Action  2001.0   \n",
       "2                         Planet of the Apes (2001)     Action  2001.0   \n",
       "3                         Planet of the Apes (2001)     Action  2001.0   \n",
       "4                         Planet of the Apes (2001)  Adventure  2001.0   \n",
       "...                                             ...        ...     ...   \n",
       "48264326  Batman Beyond: Return of the Joker (2000)      Crime  2000.0   \n",
       "48264327  Batman Beyond: Return of the Joker (2000)     Sci-Fi  2000.0   \n",
       "48264328  Batman Beyond: Return of the Joker (2000)     Sci-Fi  2000.0   \n",
       "48264329  Batman Beyond: Return of the Joker (2000)   Thriller  2000.0   \n",
       "48264330  Batman Beyond: Return of the Joker (2000)   Thriller  2000.0   \n",
       "\n",
       "           director     writer  \n",
       "0         nm0000318  nm0099541  \n",
       "1         nm0000318  nm0115310  \n",
       "2         nm0000318  nm0465199  \n",
       "3         nm0000318  nm0742797  \n",
       "4         nm0000318  nm0099541  \n",
       "...             ...        ...  \n",
       "48264326        NaN  nm0227704  \n",
       "48264327        NaN  nm0004170  \n",
       "48264328        NaN  nm0227704  \n",
       "48264329        NaN  nm0004170  \n",
       "48264330        NaN  nm0227704  \n",
       "\n",
       "[48264331 rows x 8 columns]"
      ]
     },
     "execution_count": 205,
     "metadata": {},
     "output_type": "execute_result"
    }
   ],
   "source": [
    "training_side_inform = pd.merge(train_df, titles_data_df, how=\"left\", on=[\"item\"])\n",
    "training_side_inform = pd.merge(training_side_inform, genres_data_df, how=\"left\", on=[\"item\"])\n",
    "training_side_inform = pd.merge(training_side_inform, year_data_df, how=\"left\", on=[\"item\"])\n",
    "training_side_inform = pd.merge(training_side_inform, directors_data_df, how=\"left\", on=[\"item\"])\n",
    "training_side_inform = pd.merge(training_side_inform, writers_data_df, how=\"left\", on=[\"item\"])\n",
    "training_side_inform"
   ]
  },
  {
   "cell_type": "code",
   "execution_count": 211,
   "metadata": {},
   "outputs": [
    {
     "data": {
      "text/html": [
       "<div>\n",
       "<style scoped>\n",
       "    .dataframe tbody tr th:only-of-type {\n",
       "        vertical-align: middle;\n",
       "    }\n",
       "\n",
       "    .dataframe tbody tr th {\n",
       "        vertical-align: top;\n",
       "    }\n",
       "\n",
       "    .dataframe thead th {\n",
       "        text-align: right;\n",
       "    }\n",
       "</style>\n",
       "<table border=\"1\" class=\"dataframe\">\n",
       "  <thead>\n",
       "    <tr style=\"text-align: right;\">\n",
       "      <th></th>\n",
       "      <th>user</th>\n",
       "      <th>item</th>\n",
       "      <th>time</th>\n",
       "      <th>title</th>\n",
       "      <th>genre</th>\n",
       "      <th>year</th>\n",
       "      <th>director</th>\n",
       "      <th>writer</th>\n",
       "    </tr>\n",
       "  </thead>\n",
       "  <tbody>\n",
       "    <tr>\n",
       "      <th>16</th>\n",
       "      <td>11</td>\n",
       "      <td>170</td>\n",
       "      <td>1230782534</td>\n",
       "      <td>Hackers (1995)</td>\n",
       "      <td>Action</td>\n",
       "      <td>1995.0</td>\n",
       "      <td>nm0812200</td>\n",
       "      <td>NaN</td>\n",
       "    </tr>\n",
       "    <tr>\n",
       "      <th>17</th>\n",
       "      <td>11</td>\n",
       "      <td>170</td>\n",
       "      <td>1230782534</td>\n",
       "      <td>Hackers (1995)</td>\n",
       "      <td>Adventure</td>\n",
       "      <td>1995.0</td>\n",
       "      <td>nm0812200</td>\n",
       "      <td>NaN</td>\n",
       "    </tr>\n",
       "    <tr>\n",
       "      <th>18</th>\n",
       "      <td>11</td>\n",
       "      <td>170</td>\n",
       "      <td>1230782534</td>\n",
       "      <td>Hackers (1995)</td>\n",
       "      <td>Crime</td>\n",
       "      <td>1995.0</td>\n",
       "      <td>nm0812200</td>\n",
       "      <td>NaN</td>\n",
       "    </tr>\n",
       "    <tr>\n",
       "      <th>19</th>\n",
       "      <td>11</td>\n",
       "      <td>170</td>\n",
       "      <td>1230782534</td>\n",
       "      <td>Hackers (1995)</td>\n",
       "      <td>Thriller</td>\n",
       "      <td>1995.0</td>\n",
       "      <td>nm0812200</td>\n",
       "      <td>NaN</td>\n",
       "    </tr>\n",
       "    <tr>\n",
       "      <th>72</th>\n",
       "      <td>11</td>\n",
       "      <td>1591</td>\n",
       "      <td>1230782724</td>\n",
       "      <td>Spawn (1997)</td>\n",
       "      <td>Action</td>\n",
       "      <td>1997.0</td>\n",
       "      <td>NaN</td>\n",
       "      <td>nm0568416</td>\n",
       "    </tr>\n",
       "    <tr>\n",
       "      <th>...</th>\n",
       "      <td>...</td>\n",
       "      <td>...</td>\n",
       "      <td>...</td>\n",
       "      <td>...</td>\n",
       "      <td>...</td>\n",
       "      <td>...</td>\n",
       "      <td>...</td>\n",
       "      <td>...</td>\n",
       "    </tr>\n",
       "    <tr>\n",
       "      <th>48264326</th>\n",
       "      <td>138493</td>\n",
       "      <td>27311</td>\n",
       "      <td>1260209807</td>\n",
       "      <td>Batman Beyond: Return of the Joker (2000)</td>\n",
       "      <td>Crime</td>\n",
       "      <td>2000.0</td>\n",
       "      <td>NaN</td>\n",
       "      <td>nm0227704</td>\n",
       "    </tr>\n",
       "    <tr>\n",
       "      <th>48264327</th>\n",
       "      <td>138493</td>\n",
       "      <td>27311</td>\n",
       "      <td>1260209807</td>\n",
       "      <td>Batman Beyond: Return of the Joker (2000)</td>\n",
       "      <td>Sci-Fi</td>\n",
       "      <td>2000.0</td>\n",
       "      <td>NaN</td>\n",
       "      <td>nm0004170</td>\n",
       "    </tr>\n",
       "    <tr>\n",
       "      <th>48264328</th>\n",
       "      <td>138493</td>\n",
       "      <td>27311</td>\n",
       "      <td>1260209807</td>\n",
       "      <td>Batman Beyond: Return of the Joker (2000)</td>\n",
       "      <td>Sci-Fi</td>\n",
       "      <td>2000.0</td>\n",
       "      <td>NaN</td>\n",
       "      <td>nm0227704</td>\n",
       "    </tr>\n",
       "    <tr>\n",
       "      <th>48264329</th>\n",
       "      <td>138493</td>\n",
       "      <td>27311</td>\n",
       "      <td>1260209807</td>\n",
       "      <td>Batman Beyond: Return of the Joker (2000)</td>\n",
       "      <td>Thriller</td>\n",
       "      <td>2000.0</td>\n",
       "      <td>NaN</td>\n",
       "      <td>nm0004170</td>\n",
       "    </tr>\n",
       "    <tr>\n",
       "      <th>48264330</th>\n",
       "      <td>138493</td>\n",
       "      <td>27311</td>\n",
       "      <td>1260209807</td>\n",
       "      <td>Batman Beyond: Return of the Joker (2000)</td>\n",
       "      <td>Thriller</td>\n",
       "      <td>2000.0</td>\n",
       "      <td>NaN</td>\n",
       "      <td>nm0227704</td>\n",
       "    </tr>\n",
       "  </tbody>\n",
       "</table>\n",
       "<p>1627594 rows × 8 columns</p>\n",
       "</div>"
      ],
      "text/plain": [
       "            user   item        time  \\\n",
       "16            11    170  1230782534   \n",
       "17            11    170  1230782534   \n",
       "18            11    170  1230782534   \n",
       "19            11    170  1230782534   \n",
       "72            11   1591  1230782724   \n",
       "...          ...    ...         ...   \n",
       "48264326  138493  27311  1260209807   \n",
       "48264327  138493  27311  1260209807   \n",
       "48264328  138493  27311  1260209807   \n",
       "48264329  138493  27311  1260209807   \n",
       "48264330  138493  27311  1260209807   \n",
       "\n",
       "                                              title      genre    year  \\\n",
       "16                                   Hackers (1995)     Action  1995.0   \n",
       "17                                   Hackers (1995)  Adventure  1995.0   \n",
       "18                                   Hackers (1995)      Crime  1995.0   \n",
       "19                                   Hackers (1995)   Thriller  1995.0   \n",
       "72                                     Spawn (1997)     Action  1997.0   \n",
       "...                                             ...        ...     ...   \n",
       "48264326  Batman Beyond: Return of the Joker (2000)      Crime  2000.0   \n",
       "48264327  Batman Beyond: Return of the Joker (2000)     Sci-Fi  2000.0   \n",
       "48264328  Batman Beyond: Return of the Joker (2000)     Sci-Fi  2000.0   \n",
       "48264329  Batman Beyond: Return of the Joker (2000)   Thriller  2000.0   \n",
       "48264330  Batman Beyond: Return of the Joker (2000)   Thriller  2000.0   \n",
       "\n",
       "           director     writer  \n",
       "16        nm0812200        NaN  \n",
       "17        nm0812200        NaN  \n",
       "18        nm0812200        NaN  \n",
       "19        nm0812200        NaN  \n",
       "72              NaN  nm0568416  \n",
       "...             ...        ...  \n",
       "48264326        NaN  nm0227704  \n",
       "48264327        NaN  nm0004170  \n",
       "48264328        NaN  nm0227704  \n",
       "48264329        NaN  nm0004170  \n",
       "48264330        NaN  nm0227704  \n",
       "\n",
       "[1627594 rows x 8 columns]"
      ]
     },
     "execution_count": 211,
     "metadata": {},
     "output_type": "execute_result"
    }
   ],
   "source": [
    "training_side_inform_null = training_side_inform[training_side_inform[\"year\"].isnull() | training_side_inform[\"director\"].isnull() | training_side_inform[\"writer\"].isnull()]\n",
    "training_side_inform_null"
   ]
  },
  {
   "cell_type": "code",
   "execution_count": 215,
   "metadata": {},
   "outputs": [
    {
     "data": {
      "text/html": [
       "<div>\n",
       "<style scoped>\n",
       "    .dataframe tbody tr th:only-of-type {\n",
       "        vertical-align: middle;\n",
       "    }\n",
       "\n",
       "    .dataframe tbody tr th {\n",
       "        vertical-align: top;\n",
       "    }\n",
       "\n",
       "    .dataframe thead th {\n",
       "        text-align: right;\n",
       "    }\n",
       "</style>\n",
       "<table border=\"1\" class=\"dataframe\">\n",
       "  <thead>\n",
       "    <tr style=\"text-align: right;\">\n",
       "      <th></th>\n",
       "      <th>user</th>\n",
       "      <th>item</th>\n",
       "      <th>time</th>\n",
       "      <th>title</th>\n",
       "      <th>genre</th>\n",
       "      <th>year</th>\n",
       "      <th>director</th>\n",
       "      <th>writer</th>\n",
       "    </tr>\n",
       "  </thead>\n",
       "  <tbody>\n",
       "    <tr>\n",
       "      <th>0</th>\n",
       "      <td>11</td>\n",
       "      <td>4643</td>\n",
       "      <td>1230782529</td>\n",
       "      <td>Planet of the Apes (2001)</td>\n",
       "      <td>Action</td>\n",
       "      <td>2001.0</td>\n",
       "      <td>nm0000318</td>\n",
       "      <td>nm0099541</td>\n",
       "    </tr>\n",
       "    <tr>\n",
       "      <th>1</th>\n",
       "      <td>11</td>\n",
       "      <td>4643</td>\n",
       "      <td>1230782529</td>\n",
       "      <td>Planet of the Apes (2001)</td>\n",
       "      <td>Action</td>\n",
       "      <td>2001.0</td>\n",
       "      <td>nm0000318</td>\n",
       "      <td>nm0115310</td>\n",
       "    </tr>\n",
       "    <tr>\n",
       "      <th>2</th>\n",
       "      <td>11</td>\n",
       "      <td>4643</td>\n",
       "      <td>1230782529</td>\n",
       "      <td>Planet of the Apes (2001)</td>\n",
       "      <td>Action</td>\n",
       "      <td>2001.0</td>\n",
       "      <td>nm0000318</td>\n",
       "      <td>nm0465199</td>\n",
       "    </tr>\n",
       "    <tr>\n",
       "      <th>3</th>\n",
       "      <td>11</td>\n",
       "      <td>4643</td>\n",
       "      <td>1230782529</td>\n",
       "      <td>Planet of the Apes (2001)</td>\n",
       "      <td>Action</td>\n",
       "      <td>2001.0</td>\n",
       "      <td>nm0000318</td>\n",
       "      <td>nm0742797</td>\n",
       "    </tr>\n",
       "    <tr>\n",
       "      <th>4</th>\n",
       "      <td>11</td>\n",
       "      <td>4643</td>\n",
       "      <td>1230782529</td>\n",
       "      <td>Planet of the Apes (2001)</td>\n",
       "      <td>Adventure</td>\n",
       "      <td>2001.0</td>\n",
       "      <td>nm0000318</td>\n",
       "      <td>nm0099541</td>\n",
       "    </tr>\n",
       "    <tr>\n",
       "      <th>...</th>\n",
       "      <td>...</td>\n",
       "      <td>...</td>\n",
       "      <td>...</td>\n",
       "      <td>...</td>\n",
       "      <td>...</td>\n",
       "      <td>...</td>\n",
       "      <td>...</td>\n",
       "      <td>...</td>\n",
       "    </tr>\n",
       "    <tr>\n",
       "      <th>48264316</th>\n",
       "      <td>138493</td>\n",
       "      <td>40819</td>\n",
       "      <td>1260209726</td>\n",
       "      <td>Walk the Line (2005)</td>\n",
       "      <td>Drama</td>\n",
       "      <td>2005.0</td>\n",
       "      <td>nm0003506</td>\n",
       "      <td>nm0219456</td>\n",
       "    </tr>\n",
       "    <tr>\n",
       "      <th>48264317</th>\n",
       "      <td>138493</td>\n",
       "      <td>40819</td>\n",
       "      <td>1260209726</td>\n",
       "      <td>Walk the Line (2005)</td>\n",
       "      <td>Musical</td>\n",
       "      <td>2005.0</td>\n",
       "      <td>nm0003506</td>\n",
       "      <td>nm0003506</td>\n",
       "    </tr>\n",
       "    <tr>\n",
       "      <th>48264318</th>\n",
       "      <td>138493</td>\n",
       "      <td>40819</td>\n",
       "      <td>1260209726</td>\n",
       "      <td>Walk the Line (2005)</td>\n",
       "      <td>Musical</td>\n",
       "      <td>2005.0</td>\n",
       "      <td>nm0003506</td>\n",
       "      <td>nm0219456</td>\n",
       "    </tr>\n",
       "    <tr>\n",
       "      <th>48264319</th>\n",
       "      <td>138493</td>\n",
       "      <td>40819</td>\n",
       "      <td>1260209726</td>\n",
       "      <td>Walk the Line (2005)</td>\n",
       "      <td>Romance</td>\n",
       "      <td>2005.0</td>\n",
       "      <td>nm0003506</td>\n",
       "      <td>nm0003506</td>\n",
       "    </tr>\n",
       "    <tr>\n",
       "      <th>48264320</th>\n",
       "      <td>138493</td>\n",
       "      <td>40819</td>\n",
       "      <td>1260209726</td>\n",
       "      <td>Walk the Line (2005)</td>\n",
       "      <td>Romance</td>\n",
       "      <td>2005.0</td>\n",
       "      <td>nm0003506</td>\n",
       "      <td>nm0219456</td>\n",
       "    </tr>\n",
       "  </tbody>\n",
       "</table>\n",
       "<p>46636737 rows × 8 columns</p>\n",
       "</div>"
      ],
      "text/plain": [
       "            user   item        time                      title      genre  \\\n",
       "0             11   4643  1230782529  Planet of the Apes (2001)     Action   \n",
       "1             11   4643  1230782529  Planet of the Apes (2001)     Action   \n",
       "2             11   4643  1230782529  Planet of the Apes (2001)     Action   \n",
       "3             11   4643  1230782529  Planet of the Apes (2001)     Action   \n",
       "4             11   4643  1230782529  Planet of the Apes (2001)  Adventure   \n",
       "...          ...    ...         ...                        ...        ...   \n",
       "48264316  138493  40819  1260209726       Walk the Line (2005)      Drama   \n",
       "48264317  138493  40819  1260209726       Walk the Line (2005)    Musical   \n",
       "48264318  138493  40819  1260209726       Walk the Line (2005)    Musical   \n",
       "48264319  138493  40819  1260209726       Walk the Line (2005)    Romance   \n",
       "48264320  138493  40819  1260209726       Walk the Line (2005)    Romance   \n",
       "\n",
       "            year   director     writer  \n",
       "0         2001.0  nm0000318  nm0099541  \n",
       "1         2001.0  nm0000318  nm0115310  \n",
       "2         2001.0  nm0000318  nm0465199  \n",
       "3         2001.0  nm0000318  nm0742797  \n",
       "4         2001.0  nm0000318  nm0099541  \n",
       "...          ...        ...        ...  \n",
       "48264316  2005.0  nm0003506  nm0219456  \n",
       "48264317  2005.0  nm0003506  nm0003506  \n",
       "48264318  2005.0  nm0003506  nm0219456  \n",
       "48264319  2005.0  nm0003506  nm0003506  \n",
       "48264320  2005.0  nm0003506  nm0219456  \n",
       "\n",
       "[46636737 rows x 8 columns]"
      ]
     },
     "execution_count": 215,
     "metadata": {},
     "output_type": "execute_result"
    }
   ],
   "source": [
    "training_side_inform_notnull =training_side_inform[training_side_inform[\"year\"].notnull() & training_side_inform[\"director\"].notnull() & training_side_inform[\"writer\"].notnull()]\n",
    "training_side_inform_notnull"
   ]
  },
  {
   "cell_type": "code",
   "execution_count": 18,
   "metadata": {},
   "outputs": [
    {
     "data": {
      "text/html": [
       "<div>\n",
       "<style scoped>\n",
       "    .dataframe tbody tr th:only-of-type {\n",
       "        vertical-align: middle;\n",
       "    }\n",
       "\n",
       "    .dataframe tbody tr th {\n",
       "        vertical-align: top;\n",
       "    }\n",
       "\n",
       "    .dataframe thead th {\n",
       "        text-align: right;\n",
       "    }\n",
       "</style>\n",
       "<table border=\"1\" class=\"dataframe\">\n",
       "  <thead>\n",
       "    <tr style=\"text-align: right;\">\n",
       "      <th></th>\n",
       "      <th>item</th>\n",
       "      <th>title</th>\n",
       "    </tr>\n",
       "  </thead>\n",
       "  <tbody>\n",
       "    <tr>\n",
       "      <th>22</th>\n",
       "      <td>33794</td>\n",
       "      <td>Batman Begins (2005)</td>\n",
       "    </tr>\n",
       "    <tr>\n",
       "      <th>107</th>\n",
       "      <td>592</td>\n",
       "      <td>Batman (1989)</td>\n",
       "    </tr>\n",
       "    <tr>\n",
       "      <th>455</th>\n",
       "      <td>1377</td>\n",
       "      <td>Batman Returns (1992)</td>\n",
       "    </tr>\n",
       "    <tr>\n",
       "      <th>3112</th>\n",
       "      <td>79274</td>\n",
       "      <td>Batman: Under the Red Hood (2010)</td>\n",
       "    </tr>\n",
       "    <tr>\n",
       "      <th>3352</th>\n",
       "      <td>80469</td>\n",
       "      <td>Superman/Batman: Apocalypse (2010)</td>\n",
       "    </tr>\n",
       "    <tr>\n",
       "      <th>3443</th>\n",
       "      <td>153</td>\n",
       "      <td>Batman Forever (1995)</td>\n",
       "    </tr>\n",
       "    <tr>\n",
       "      <th>3600</th>\n",
       "      <td>1562</td>\n",
       "      <td>Batman &amp; Robin (1997)</td>\n",
       "    </tr>\n",
       "    <tr>\n",
       "      <th>3673</th>\n",
       "      <td>3213</td>\n",
       "      <td>Batman: Mask of the Phantasm (1993)</td>\n",
       "    </tr>\n",
       "    <tr>\n",
       "      <th>3696</th>\n",
       "      <td>26152</td>\n",
       "      <td>Batman (1966)</td>\n",
       "    </tr>\n",
       "    <tr>\n",
       "      <th>3754</th>\n",
       "      <td>60979</td>\n",
       "      <td>Batman: Gotham Knight (2008)</td>\n",
       "    </tr>\n",
       "    <tr>\n",
       "      <th>3802</th>\n",
       "      <td>27311</td>\n",
       "      <td>Batman Beyond: Return of the Joker (2000)</td>\n",
       "    </tr>\n",
       "    <tr>\n",
       "      <th>4204</th>\n",
       "      <td>27155</td>\n",
       "      <td>Batman/Superman Movie, The (1998)</td>\n",
       "    </tr>\n",
       "    <tr>\n",
       "      <th>6455</th>\n",
       "      <td>90603</td>\n",
       "      <td>Batman: Year One (2011)</td>\n",
       "    </tr>\n",
       "    <tr>\n",
       "      <th>6524</th>\n",
       "      <td>99813</td>\n",
       "      <td>Batman: The Dark Knight Returns, Part 2 (2013)</td>\n",
       "    </tr>\n",
       "    <tr>\n",
       "      <th>6525</th>\n",
       "      <td>98124</td>\n",
       "      <td>Batman: The Dark Knight Returns, Part 1 (2012)</td>\n",
       "    </tr>\n",
       "  </tbody>\n",
       "</table>\n",
       "</div>"
      ],
      "text/plain": [
       "       item                                           title\n",
       "22    33794                            Batman Begins (2005)\n",
       "107     592                                   Batman (1989)\n",
       "455    1377                           Batman Returns (1992)\n",
       "3112  79274               Batman: Under the Red Hood (2010)\n",
       "3352  80469              Superman/Batman: Apocalypse (2010)\n",
       "3443    153                           Batman Forever (1995)\n",
       "3600   1562                           Batman & Robin (1997)\n",
       "3673   3213             Batman: Mask of the Phantasm (1993)\n",
       "3696  26152                                   Batman (1966)\n",
       "3754  60979                    Batman: Gotham Knight (2008)\n",
       "3802  27311       Batman Beyond: Return of the Joker (2000)\n",
       "4204  27155               Batman/Superman Movie, The (1998)\n",
       "6455  90603                         Batman: Year One (2011)\n",
       "6524  99813  Batman: The Dark Knight Returns, Part 2 (2013)\n",
       "6525  98124  Batman: The Dark Knight Returns, Part 1 (2012)"
      ]
     },
     "execution_count": 18,
     "metadata": {},
     "output_type": "execute_result"
    }
   ],
   "source": [
    "titles_data_df[titles_data_df[\"title\"].str.contains('Batman')]"
   ]
  },
  {
   "cell_type": "code",
   "execution_count": 264,
   "metadata": {},
   "outputs": [
    {
     "data": {
      "text/html": [
       "<div>\n",
       "<style scoped>\n",
       "    .dataframe tbody tr th:only-of-type {\n",
       "        vertical-align: middle;\n",
       "    }\n",
       "\n",
       "    .dataframe tbody tr th {\n",
       "        vertical-align: top;\n",
       "    }\n",
       "\n",
       "    .dataframe thead th {\n",
       "        text-align: right;\n",
       "    }\n",
       "</style>\n",
       "<table border=\"1\" class=\"dataframe\">\n",
       "  <thead>\n",
       "    <tr style=\"text-align: right;\">\n",
       "      <th></th>\n",
       "      <th>item</th>\n",
       "      <th>title</th>\n",
       "      <th>genre</th>\n",
       "    </tr>\n",
       "  </thead>\n",
       "  <tbody>\n",
       "    <tr>\n",
       "      <th>0</th>\n",
       "      <td>33794</td>\n",
       "      <td>Batman Begins (2005)</td>\n",
       "      <td>Action</td>\n",
       "    </tr>\n",
       "    <tr>\n",
       "      <th>1</th>\n",
       "      <td>33794</td>\n",
       "      <td>Batman Begins (2005)</td>\n",
       "      <td>Crime</td>\n",
       "    </tr>\n",
       "    <tr>\n",
       "      <th>2</th>\n",
       "      <td>592</td>\n",
       "      <td>Batman (1989)</td>\n",
       "      <td>Action</td>\n",
       "    </tr>\n",
       "    <tr>\n",
       "      <th>3</th>\n",
       "      <td>592</td>\n",
       "      <td>Batman (1989)</td>\n",
       "      <td>Crime</td>\n",
       "    </tr>\n",
       "    <tr>\n",
       "      <th>4</th>\n",
       "      <td>592</td>\n",
       "      <td>Batman (1989)</td>\n",
       "      <td>Thriller</td>\n",
       "    </tr>\n",
       "    <tr>\n",
       "      <th>5</th>\n",
       "      <td>1377</td>\n",
       "      <td>Batman Returns (1992)</td>\n",
       "      <td>Action</td>\n",
       "    </tr>\n",
       "    <tr>\n",
       "      <th>6</th>\n",
       "      <td>1377</td>\n",
       "      <td>Batman Returns (1992)</td>\n",
       "      <td>Crime</td>\n",
       "    </tr>\n",
       "    <tr>\n",
       "      <th>7</th>\n",
       "      <td>79274</td>\n",
       "      <td>Batman: Under the Red Hood (2010)</td>\n",
       "      <td>Action</td>\n",
       "    </tr>\n",
       "    <tr>\n",
       "      <th>8</th>\n",
       "      <td>79274</td>\n",
       "      <td>Batman: Under the Red Hood (2010)</td>\n",
       "      <td>Animation</td>\n",
       "    </tr>\n",
       "    <tr>\n",
       "      <th>9</th>\n",
       "      <td>80469</td>\n",
       "      <td>Superman/Batman: Apocalypse (2010)</td>\n",
       "      <td>Animation</td>\n",
       "    </tr>\n",
       "    <tr>\n",
       "      <th>10</th>\n",
       "      <td>153</td>\n",
       "      <td>Batman Forever (1995)</td>\n",
       "      <td>Action</td>\n",
       "    </tr>\n",
       "    <tr>\n",
       "      <th>11</th>\n",
       "      <td>153</td>\n",
       "      <td>Batman Forever (1995)</td>\n",
       "      <td>Adventure</td>\n",
       "    </tr>\n",
       "    <tr>\n",
       "      <th>12</th>\n",
       "      <td>153</td>\n",
       "      <td>Batman Forever (1995)</td>\n",
       "      <td>Comedy</td>\n",
       "    </tr>\n",
       "    <tr>\n",
       "      <th>13</th>\n",
       "      <td>153</td>\n",
       "      <td>Batman Forever (1995)</td>\n",
       "      <td>Crime</td>\n",
       "    </tr>\n",
       "    <tr>\n",
       "      <th>14</th>\n",
       "      <td>1562</td>\n",
       "      <td>Batman &amp; Robin (1997)</td>\n",
       "      <td>Action</td>\n",
       "    </tr>\n",
       "    <tr>\n",
       "      <th>15</th>\n",
       "      <td>1562</td>\n",
       "      <td>Batman &amp; Robin (1997)</td>\n",
       "      <td>Adventure</td>\n",
       "    </tr>\n",
       "    <tr>\n",
       "      <th>16</th>\n",
       "      <td>1562</td>\n",
       "      <td>Batman &amp; Robin (1997)</td>\n",
       "      <td>Fantasy</td>\n",
       "    </tr>\n",
       "    <tr>\n",
       "      <th>17</th>\n",
       "      <td>1562</td>\n",
       "      <td>Batman &amp; Robin (1997)</td>\n",
       "      <td>Thriller</td>\n",
       "    </tr>\n",
       "    <tr>\n",
       "      <th>18</th>\n",
       "      <td>3213</td>\n",
       "      <td>Batman: Mask of the Phantasm (1993)</td>\n",
       "      <td>Animation</td>\n",
       "    </tr>\n",
       "    <tr>\n",
       "      <th>19</th>\n",
       "      <td>3213</td>\n",
       "      <td>Batman: Mask of the Phantasm (1993)</td>\n",
       "      <td>Children</td>\n",
       "    </tr>\n",
       "    <tr>\n",
       "      <th>20</th>\n",
       "      <td>26152</td>\n",
       "      <td>Batman (1966)</td>\n",
       "      <td>Action</td>\n",
       "    </tr>\n",
       "    <tr>\n",
       "      <th>21</th>\n",
       "      <td>26152</td>\n",
       "      <td>Batman (1966)</td>\n",
       "      <td>Adventure</td>\n",
       "    </tr>\n",
       "    <tr>\n",
       "      <th>22</th>\n",
       "      <td>26152</td>\n",
       "      <td>Batman (1966)</td>\n",
       "      <td>Comedy</td>\n",
       "    </tr>\n",
       "    <tr>\n",
       "      <th>23</th>\n",
       "      <td>60979</td>\n",
       "      <td>Batman: Gotham Knight (2008)</td>\n",
       "      <td>Action</td>\n",
       "    </tr>\n",
       "    <tr>\n",
       "      <th>24</th>\n",
       "      <td>60979</td>\n",
       "      <td>Batman: Gotham Knight (2008)</td>\n",
       "      <td>Animation</td>\n",
       "    </tr>\n",
       "    <tr>\n",
       "      <th>25</th>\n",
       "      <td>60979</td>\n",
       "      <td>Batman: Gotham Knight (2008)</td>\n",
       "      <td>Crime</td>\n",
       "    </tr>\n",
       "    <tr>\n",
       "      <th>26</th>\n",
       "      <td>27311</td>\n",
       "      <td>Batman Beyond: Return of the Joker (2000)</td>\n",
       "      <td>Action</td>\n",
       "    </tr>\n",
       "    <tr>\n",
       "      <th>27</th>\n",
       "      <td>27311</td>\n",
       "      <td>Batman Beyond: Return of the Joker (2000)</td>\n",
       "      <td>Animation</td>\n",
       "    </tr>\n",
       "    <tr>\n",
       "      <th>28</th>\n",
       "      <td>27311</td>\n",
       "      <td>Batman Beyond: Return of the Joker (2000)</td>\n",
       "      <td>Crime</td>\n",
       "    </tr>\n",
       "    <tr>\n",
       "      <th>29</th>\n",
       "      <td>27311</td>\n",
       "      <td>Batman Beyond: Return of the Joker (2000)</td>\n",
       "      <td>Sci-Fi</td>\n",
       "    </tr>\n",
       "    <tr>\n",
       "      <th>30</th>\n",
       "      <td>27311</td>\n",
       "      <td>Batman Beyond: Return of the Joker (2000)</td>\n",
       "      <td>Thriller</td>\n",
       "    </tr>\n",
       "    <tr>\n",
       "      <th>31</th>\n",
       "      <td>27155</td>\n",
       "      <td>Batman/Superman Movie, The (1998)</td>\n",
       "      <td>Action</td>\n",
       "    </tr>\n",
       "    <tr>\n",
       "      <th>32</th>\n",
       "      <td>27155</td>\n",
       "      <td>Batman/Superman Movie, The (1998)</td>\n",
       "      <td>Adventure</td>\n",
       "    </tr>\n",
       "    <tr>\n",
       "      <th>33</th>\n",
       "      <td>27155</td>\n",
       "      <td>Batman/Superman Movie, The (1998)</td>\n",
       "      <td>Animation</td>\n",
       "    </tr>\n",
       "    <tr>\n",
       "      <th>34</th>\n",
       "      <td>27155</td>\n",
       "      <td>Batman/Superman Movie, The (1998)</td>\n",
       "      <td>Children</td>\n",
       "    </tr>\n",
       "    <tr>\n",
       "      <th>35</th>\n",
       "      <td>27155</td>\n",
       "      <td>Batman/Superman Movie, The (1998)</td>\n",
       "      <td>Fantasy</td>\n",
       "    </tr>\n",
       "    <tr>\n",
       "      <th>36</th>\n",
       "      <td>27155</td>\n",
       "      <td>Batman/Superman Movie, The (1998)</td>\n",
       "      <td>Sci-Fi</td>\n",
       "    </tr>\n",
       "    <tr>\n",
       "      <th>37</th>\n",
       "      <td>90603</td>\n",
       "      <td>Batman: Year One (2011)</td>\n",
       "      <td>Action</td>\n",
       "    </tr>\n",
       "    <tr>\n",
       "      <th>38</th>\n",
       "      <td>90603</td>\n",
       "      <td>Batman: Year One (2011)</td>\n",
       "      <td>Animation</td>\n",
       "    </tr>\n",
       "    <tr>\n",
       "      <th>39</th>\n",
       "      <td>90603</td>\n",
       "      <td>Batman: Year One (2011)</td>\n",
       "      <td>Crime</td>\n",
       "    </tr>\n",
       "    <tr>\n",
       "      <th>40</th>\n",
       "      <td>99813</td>\n",
       "      <td>Batman: The Dark Knight Returns, Part 2 (2013)</td>\n",
       "      <td>Action</td>\n",
       "    </tr>\n",
       "    <tr>\n",
       "      <th>41</th>\n",
       "      <td>99813</td>\n",
       "      <td>Batman: The Dark Knight Returns, Part 2 (2013)</td>\n",
       "      <td>Animation</td>\n",
       "    </tr>\n",
       "    <tr>\n",
       "      <th>42</th>\n",
       "      <td>98124</td>\n",
       "      <td>Batman: The Dark Knight Returns, Part 1 (2012)</td>\n",
       "      <td>Action</td>\n",
       "    </tr>\n",
       "    <tr>\n",
       "      <th>43</th>\n",
       "      <td>98124</td>\n",
       "      <td>Batman: The Dark Knight Returns, Part 1 (2012)</td>\n",
       "      <td>Animation</td>\n",
       "    </tr>\n",
       "    <tr>\n",
       "      <th>44</th>\n",
       "      <td>98124</td>\n",
       "      <td>Batman: The Dark Knight Returns, Part 1 (2012)</td>\n",
       "      <td>Sci-Fi</td>\n",
       "    </tr>\n",
       "  </tbody>\n",
       "</table>\n",
       "</div>"
      ],
      "text/plain": [
       "     item                                           title      genre\n",
       "0   33794                            Batman Begins (2005)     Action\n",
       "1   33794                            Batman Begins (2005)      Crime\n",
       "2     592                                   Batman (1989)     Action\n",
       "3     592                                   Batman (1989)      Crime\n",
       "4     592                                   Batman (1989)   Thriller\n",
       "5    1377                           Batman Returns (1992)     Action\n",
       "6    1377                           Batman Returns (1992)      Crime\n",
       "7   79274               Batman: Under the Red Hood (2010)     Action\n",
       "8   79274               Batman: Under the Red Hood (2010)  Animation\n",
       "9   80469              Superman/Batman: Apocalypse (2010)  Animation\n",
       "10    153                           Batman Forever (1995)     Action\n",
       "11    153                           Batman Forever (1995)  Adventure\n",
       "12    153                           Batman Forever (1995)     Comedy\n",
       "13    153                           Batman Forever (1995)      Crime\n",
       "14   1562                           Batman & Robin (1997)     Action\n",
       "15   1562                           Batman & Robin (1997)  Adventure\n",
       "16   1562                           Batman & Robin (1997)    Fantasy\n",
       "17   1562                           Batman & Robin (1997)   Thriller\n",
       "18   3213             Batman: Mask of the Phantasm (1993)  Animation\n",
       "19   3213             Batman: Mask of the Phantasm (1993)   Children\n",
       "20  26152                                   Batman (1966)     Action\n",
       "21  26152                                   Batman (1966)  Adventure\n",
       "22  26152                                   Batman (1966)     Comedy\n",
       "23  60979                    Batman: Gotham Knight (2008)     Action\n",
       "24  60979                    Batman: Gotham Knight (2008)  Animation\n",
       "25  60979                    Batman: Gotham Knight (2008)      Crime\n",
       "26  27311       Batman Beyond: Return of the Joker (2000)     Action\n",
       "27  27311       Batman Beyond: Return of the Joker (2000)  Animation\n",
       "28  27311       Batman Beyond: Return of the Joker (2000)      Crime\n",
       "29  27311       Batman Beyond: Return of the Joker (2000)     Sci-Fi\n",
       "30  27311       Batman Beyond: Return of the Joker (2000)   Thriller\n",
       "31  27155               Batman/Superman Movie, The (1998)     Action\n",
       "32  27155               Batman/Superman Movie, The (1998)  Adventure\n",
       "33  27155               Batman/Superman Movie, The (1998)  Animation\n",
       "34  27155               Batman/Superman Movie, The (1998)   Children\n",
       "35  27155               Batman/Superman Movie, The (1998)    Fantasy\n",
       "36  27155               Batman/Superman Movie, The (1998)     Sci-Fi\n",
       "37  90603                         Batman: Year One (2011)     Action\n",
       "38  90603                         Batman: Year One (2011)  Animation\n",
       "39  90603                         Batman: Year One (2011)      Crime\n",
       "40  99813  Batman: The Dark Knight Returns, Part 2 (2013)     Action\n",
       "41  99813  Batman: The Dark Knight Returns, Part 2 (2013)  Animation\n",
       "42  98124  Batman: The Dark Knight Returns, Part 1 (2012)     Action\n",
       "43  98124  Batman: The Dark Knight Returns, Part 1 (2012)  Animation\n",
       "44  98124  Batman: The Dark Knight Returns, Part 1 (2012)     Sci-Fi"
      ]
     },
     "execution_count": 264,
     "metadata": {},
     "output_type": "execute_result"
    }
   ],
   "source": [
    "# baselined\n",
    "pd.merge(titles_data_df[titles_data_df[\"title\"].str.contains('Batman')], genres_data_df)\n",
    "# 장르+작가+감독 => 비슷한 시리즈 추천 => 클러스터링 해볼사람 해보기"
   ]
  },
  {
   "cell_type": "code",
   "execution_count": null,
   "metadata": {},
   "outputs": [],
   "source": []
  }
 ],
 "metadata": {
  "interpreter": {
   "hash": "31f2aee4e71d21fbe5cf8b01ff0e069b9275f58929596ceb00d14d90e3e16cd6"
  },
  "kernelspec": {
   "display_name": "Python 3.6.9 64-bit",
   "language": "python",
   "name": "python3"
  },
  "language_info": {
   "codemirror_mode": {
    "name": "ipython",
    "version": 3
   },
   "file_extension": ".py",
   "mimetype": "text/x-python",
   "name": "python",
   "nbconvert_exporter": "python",
   "pygments_lexer": "ipython3",
   "version": "3.8.5"
  },
  "orig_nbformat": 4
 },
 "nbformat": 4,
 "nbformat_minor": 2
}
